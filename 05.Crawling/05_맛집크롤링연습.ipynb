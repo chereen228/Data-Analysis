{
 "metadata": {
  "language_info": {
   "codemirror_mode": {
    "name": "ipython",
    "version": 3
   },
   "file_extension": ".py",
   "mimetype": "text/x-python",
   "name": "python",
   "nbconvert_exporter": "python",
   "pygments_lexer": "ipython3",
   "version": "3.8.5"
  },
  "orig_nbformat": 2,
  "kernelspec": {
   "name": "python385jvsc74a57bd08c1eae21719a0790335dcb83aad72b63b602cfe5cdb2bda0f60bc11d4f154e4b",
   "display_name": "Python 3.8.5 64-bit ('base': conda)"
  }
 },
 "nbformat": 4,
 "nbformat_minor": 2,
 "cells": [
  {
   "source": [
    "### 충정로역 맛집 크롤링"
   ],
   "cell_type": "markdown",
   "metadata": {}
  },
  {
   "cell_type": "code",
   "execution_count": 1,
   "metadata": {},
   "outputs": [],
   "source": [
    "import time\n",
    "from selenium import webdriver\n",
    "from selenium.webdriver.common.keys import Keys\n",
    "import requests\n",
    "import pandas as pd"
   ]
  },
  {
   "source": [
    "#### 기본정보 - 상호, 요약정보"
   ],
   "cell_type": "markdown",
   "metadata": {}
  },
  {
   "cell_type": "code",
   "execution_count": 2,
   "metadata": {},
   "outputs": [],
   "source": [
    "# 망고플레이트 메인 화면\n",
    "driver = webdriver.Chrome()\n",
    "driver.get('https://www.mangoplate.com/')"
   ]
  },
  {
   "cell_type": "code",
   "execution_count": 3,
   "metadata": {},
   "outputs": [],
   "source": [
    "# 충정로역 검색\n",
    "search_box = driver.find_element_by_css_selector('input#main-search.HomeSearchInput')\n",
    "search_box.send_keys('충정로역')"
   ]
  },
  {
   "cell_type": "code",
   "execution_count": 4,
   "metadata": {},
   "outputs": [],
   "source": [
    "# 검색결과 가져오기\n",
    "search_box.send_keys(Keys.ENTER)\n",
    "time.sleep(1)"
   ]
  },
  {
   "cell_type": "code",
   "execution_count": 5,
   "metadata": {},
   "outputs": [],
   "source": [
    "import requests\n",
    "import pandas as pd"
   ]
  },
  {
   "cell_type": "code",
   "execution_count": 25,
   "metadata": {},
   "outputs": [],
   "source": [
    "# 1페이지 데이터 크롤링\n",
    "url = 'https://www.mangoplate.com/search/%EC%B6%A9%EC%A0%95%EB%A1%9C%EC%97%AD'\n",
    "header = {'User-Agent': \n",
    "            \"Mozilla/5.0 (Windows NT 10.0; Win64; x64) AppleWebKit/537.36 (KHTML, like Gecko) Chrome/91.0.4472.77 Safari/537.36\"}\n",
    "req = requests.get(url, headers=header)\n",
    "html = req.text\n",
    "#html"
   ]
  },
  {
   "cell_type": "code",
   "execution_count": 7,
   "metadata": {},
   "outputs": [],
   "source": [
    "from bs4 import BeautifulSoup\n",
    "\n",
    "soup = BeautifulSoup(html, 'html.parser')"
   ]
  },
  {
   "cell_type": "code",
   "execution_count": 8,
   "metadata": {},
   "outputs": [
    {
     "output_type": "execute_result",
     "data": {
      "text/plain": [
       "20"
      ]
     },
     "metadata": {},
     "execution_count": 8
    }
   ],
   "source": [
    "# 맛집 리스트 가져오기\n",
    "delis = soup.select('figure.restaurant-item')\n",
    "len(delis)"
   ]
  },
  {
   "cell_type": "code",
   "execution_count": 9,
   "metadata": {},
   "outputs": [
    {
     "output_type": "execute_result",
     "data": {
      "text/plain": [
       "<figure class=\"restaurant-item\">\n",
       "<a class=\"only-desktop_not\" href=\"/restaurants/fvA4SbtNcpuV\" onclick=\"trackEvent('CLICK_RESTAURANT', {&quot;position&quot;:0,&quot;restaurant_key&quot;:[&quot;fvA4SbtNcpuV&quot;]})\">\n",
       "<div class=\"thumb\">\n",
       "<img alt=\"위드미치코 사진 - 서울시 서대문구 충정로3가 268\" class=\"center-croping lazy\" data-error=\"https://mp-seoul-image-production-s3.mangoplate.com/web/resources/kssf5eveeva_xlmy.jpg?fit=around|*:*&amp;crop=*:*;*,*&amp;output-format=jpg&amp;output-quality=80\" data-original=\"https://mp-seoul-image-production-s3.mangoplate.com/added_restaurants/403683_1466002629026633.jpg?fit=around|359:240&amp;crop=359:240;*,*&amp;output-format=jpg&amp;output-quality=80\"/>\n",
       "</div>\n",
       "</a>\n",
       "<figcaption>\n",
       "<div class=\"info\">\n",
       "<a href=\"/restaurants/fvA4SbtNcpuV\">\n",
       "<h2 class=\"title\">위드미치코\n",
       "</h2>\n",
       "</a>\n",
       "<strong class=\"point search_point\">4.3</strong>\n",
       "<p class=\"etc\">서대문구 - <span>기타 한식</span></p>\n",
       "<p class=\"etc_info\">\n",
       "<span class=\"view_count\">48,144</span>\n",
       "<span class=\"review_count\">23</span>\n",
       "</p>\n",
       "</div>\n",
       "</figcaption>\n",
       "</figure>"
      ]
     },
     "metadata": {},
     "execution_count": 9
    }
   ],
   "source": [
    "deli = delis[0]\n",
    "deli"
   ]
  },
  {
   "cell_type": "code",
   "execution_count": 10,
   "metadata": {},
   "outputs": [
    {
     "output_type": "execute_result",
     "data": {
      "text/plain": [
       "'위드미치코'"
      ]
     },
     "metadata": {},
     "execution_count": 10
    }
   ],
   "source": [
    "# 상호명\n",
    "name = deli.select_one('.info')\n",
    "name = name.find('a').get_text().strip()   # .get_text()\n",
    "name"
   ]
  },
  {
   "cell_type": "code",
   "execution_count": 11,
   "metadata": {},
   "outputs": [
    {
     "output_type": "execute_result",
     "data": {
      "text/plain": [
       "'서대문구 - 기타 한식'"
      ]
     },
     "metadata": {},
     "execution_count": 11
    }
   ],
   "source": [
    "# 요약정보\n",
    "summary = deli.select_one('.etc').get_text()\n",
    "summary"
   ]
  },
  {
   "cell_type": "code",
   "execution_count": 12,
   "metadata": {},
   "outputs": [],
   "source": [
    "name_list, summary_list = [], []\n",
    "for deli in delis:\n",
    "    name = deli.select_one('.info')\n",
    "    name = name.find('a').get_text().strip()\n",
    "    summary = deli.select_one('.etc').get_text()\n",
    "\n",
    "    name_list.append(name)\n",
    "    summary_list.append(summary)"
   ]
  },
  {
   "cell_type": "code",
   "execution_count": 13,
   "metadata": {},
   "outputs": [
    {
     "output_type": "execute_result",
     "data": {
      "text/plain": [
       "            상호                  요약\n",
       "15   곽대리꼼대리닭대리  시청/남대문 - 닭 / 오리 요리\n",
       "16        대피공간     서대문구 - 칵테일 / 와인\n",
       "17         벙커1  서대문구 - 치킨 / 호프 / 펍\n",
       "18  마포갈비생고기전문점        서대문구 - 고기 요리\n",
       "19         히비야        서대문구 - 까스 요리"
      ],
      "text/html": "<div>\n<style scoped>\n    .dataframe tbody tr th:only-of-type {\n        vertical-align: middle;\n    }\n\n    .dataframe tbody tr th {\n        vertical-align: top;\n    }\n\n    .dataframe thead th {\n        text-align: right;\n    }\n</style>\n<table border=\"1\" class=\"dataframe\">\n  <thead>\n    <tr style=\"text-align: right;\">\n      <th></th>\n      <th>상호</th>\n      <th>요약</th>\n    </tr>\n  </thead>\n  <tbody>\n    <tr>\n      <th>15</th>\n      <td>곽대리꼼대리닭대리</td>\n      <td>시청/남대문 - 닭 / 오리 요리</td>\n    </tr>\n    <tr>\n      <th>16</th>\n      <td>대피공간</td>\n      <td>서대문구 - 칵테일 / 와인</td>\n    </tr>\n    <tr>\n      <th>17</th>\n      <td>벙커1</td>\n      <td>서대문구 - 치킨 / 호프 / 펍</td>\n    </tr>\n    <tr>\n      <th>18</th>\n      <td>마포갈비생고기전문점</td>\n      <td>서대문구 - 고기 요리</td>\n    </tr>\n    <tr>\n      <th>19</th>\n      <td>히비야</td>\n      <td>서대문구 - 까스 요리</td>\n    </tr>\n  </tbody>\n</table>\n</div>"
     },
     "metadata": {},
     "execution_count": 13
    }
   ],
   "source": [
    "df = pd.DataFrame({\n",
    "    '상호': name_list,\n",
    "    '요약': summary_list\n",
    "})\n",
    "df.tail()"
   ]
  },
  {
   "source": [
    "#### 상세정보 - 주소, 전화번호"
   ],
   "cell_type": "markdown",
   "metadata": {}
  },
  {
   "cell_type": "code",
   "execution_count": 14,
   "metadata": {},
   "outputs": [],
   "source": [
    "# 상세정보 클릭\n",
    "driver.find_element_by_xpath('/html/body/main/article/div[2]/div/div/section/div[3]/ul/li[1]/div[1]/figure/figcaption/div/a').click()\n",
    "time.sleep(1)"
   ]
  },
  {
   "cell_type": "code",
   "execution_count": 27,
   "metadata": {},
   "outputs": [],
   "source": [
    "url = 'https://www.mangoplate.com/restaurants/fvA4SbtNcpuV'\n",
    "header = {'User-Agent': \"Mozilla/5.0 (Windows NT 10.0; Win64; x64) AppleWebKit/537.36 (KHTML, like Gecko) Chrome/91.0.4472.77 Safari/537.36\"}\n",
    "req = requests.get(url, headers=header)\n",
    "html2 = req.text\n",
    "#html2"
   ]
  },
  {
   "cell_type": "code",
   "execution_count": 31,
   "metadata": {},
   "outputs": [],
   "source": [
    "soup = BeautifulSoup(html2, 'html.parser')"
   ]
  },
  {
   "cell_type": "code",
   "execution_count": 35,
   "metadata": {},
   "outputs": [
    {
     "output_type": "execute_result",
     "data": {
      "text/plain": [
       "[<div class=\"Restaurant__InfoItemLabel\">\n",
       " <div class=\"Restaurant__InfoItemLabel--RoadAddressText\">서울특별시 서대문구 충정로 20</div>\n",
       " <div class=\"Restaurant__InfoItemLabel--Address\">\n",
       " <span class=\"Restaurant__InfoAddress--Rectangle\">지번</span>\n",
       " <span class=\"Restaurant__InfoAddress--Text\">서울시 서대문구 충정로3가 268</span>\n",
       " </div>\n",
       " </div>,\n",
       " <div class=\"Restaurant__InfoItemLabel\">\n",
       "                       02-362-1394\n",
       "                     </div>]"
      ]
     },
     "metadata": {},
     "execution_count": 35
    }
   ],
   "source": [
    "details = soup.select('div.Restaurant__InfoItemLabel')\n",
    "details"
   ]
  },
  {
   "cell_type": "code",
   "execution_count": 42,
   "metadata": {},
   "outputs": [
    {
     "output_type": "execute_result",
     "data": {
      "text/plain": [
       "<div class=\"Restaurant__InfoItemLabel\">\n",
       "<div class=\"Restaurant__InfoItemLabel--RoadAddressText\">서울특별시 서대문구 충정로 20</div>\n",
       "<div class=\"Restaurant__InfoItemLabel--Address\">\n",
       "<span class=\"Restaurant__InfoAddress--Rectangle\">지번</span>\n",
       "<span class=\"Restaurant__InfoAddress--Text\">서울시 서대문구 충정로3가 268</span>\n",
       "</div>\n",
       "</div>"
      ]
     },
     "metadata": {},
     "execution_count": 42
    }
   ],
   "source": [
    "detail = details[0]\n",
    "detail"
   ]
  },
  {
   "cell_type": "code",
   "execution_count": 45,
   "metadata": {},
   "outputs": [
    {
     "output_type": "execute_result",
     "data": {
      "text/plain": [
       "'서울특별시 서대문구 충정로 20'"
      ]
     },
     "metadata": {},
     "execution_count": 45
    }
   ],
   "source": [
    "# 주소\n",
    "addr = detail.select_one('.Restaurant__InfoItemLabel--RoadAddressText').string\n",
    "addr"
   ]
  },
  {
   "cell_type": "code",
   "execution_count": 56,
   "metadata": {},
   "outputs": [
    {
     "output_type": "execute_result",
     "data": {
      "text/plain": [
       "<div class=\"Restaurant__InfoItemLabel\">\n",
       "                      02-362-1394\n",
       "                    </div>"
      ]
     },
     "metadata": {},
     "execution_count": 56
    }
   ],
   "source": [
    "# 전화번호\n",
    "detail2 = details[1]\n",
    "detail2"
   ]
  },
  {
   "cell_type": "code",
   "execution_count": 58,
   "metadata": {},
   "outputs": [
    {
     "output_type": "error",
     "ename": "AttributeError",
     "evalue": "'NoneType' object has no attribute 'get_text'",
     "traceback": [
      "\u001b[1;31m---------------------------------------------------------------------------\u001b[0m",
      "\u001b[1;31mAttributeError\u001b[0m                            Traceback (most recent call last)",
      "\u001b[1;32m<ipython-input-58-ee605db06296>\u001b[0m in \u001b[0;36m<module>\u001b[1;34m\u001b[0m\n\u001b[1;32m----> 1\u001b[1;33m \u001b[0mnumber\u001b[0m \u001b[1;33m=\u001b[0m \u001b[0mdetail2\u001b[0m\u001b[1;33m.\u001b[0m\u001b[0mselect_one\u001b[0m\u001b[1;33m(\u001b[0m\u001b[1;34m'.Restaurant__InfoItemLabel'\u001b[0m\u001b[1;33m)\u001b[0m\u001b[1;33m.\u001b[0m\u001b[0mget_text\u001b[0m\u001b[1;33m(\u001b[0m\u001b[1;33m)\u001b[0m\u001b[1;33m\u001b[0m\u001b[1;33m\u001b[0m\u001b[0m\n\u001b[0m\u001b[0;32m      2\u001b[0m \u001b[0mnumber\u001b[0m\u001b[1;33m\u001b[0m\u001b[1;33m\u001b[0m\u001b[0m\n",
      "\u001b[1;31mAttributeError\u001b[0m: 'NoneType' object has no attribute 'get_text'"
     ]
    }
   ],
   "source": [
    "number = detail2.select_one('.Restaurant__InfoItemLabel').get_text()\n",
    "number"
   ]
  },
  {
   "cell_type": "code",
   "execution_count": 114,
   "metadata": {},
   "outputs": [
    {
     "output_type": "error",
     "ename": "AttributeError",
     "evalue": "'NoneType' object has no attribute 'find'",
     "traceback": [
      "\u001b[1;31m---------------------------------------------------------------------------\u001b[0m",
      "\u001b[1;31mAttributeError\u001b[0m                            Traceback (most recent call last)",
      "\u001b[1;32m<ipython-input-114-c5bd4c0b6829>\u001b[0m in \u001b[0;36m<module>\u001b[1;34m\u001b[0m\n\u001b[0;32m      1\u001b[0m \u001b[1;31m# 주소\u001b[0m\u001b[1;33m\u001b[0m\u001b[1;33m\u001b[0m\u001b[1;33m\u001b[0m\u001b[0m\n\u001b[0;32m      2\u001b[0m \u001b[0maddr\u001b[0m \u001b[1;33m=\u001b[0m \u001b[0mdetail\u001b[0m\u001b[1;33m.\u001b[0m\u001b[0mselect_one\u001b[0m\u001b[1;33m(\u001b[0m\u001b[1;34m'table.info'\u001b[0m\u001b[1;33m)\u001b[0m\u001b[1;33m\u001b[0m\u001b[1;33m\u001b[0m\u001b[0m\n\u001b[1;32m----> 3\u001b[1;33m \u001b[0maddr\u001b[0m\u001b[1;33m.\u001b[0m\u001b[0mfind\u001b[0m\u001b[1;33m(\u001b[0m\u001b[1;34m'td'\u001b[0m\u001b[1;33m)\u001b[0m\u001b[1;33m\u001b[0m\u001b[1;33m\u001b[0m\u001b[0m\n\u001b[0m\u001b[0;32m      4\u001b[0m \u001b[0maddr\u001b[0m\u001b[1;33m\u001b[0m\u001b[1;33m\u001b[0m\u001b[0m\n",
      "\u001b[1;31mAttributeError\u001b[0m: 'NoneType' object has no attribute 'find'"
     ]
    }
   ],
   "source": [
    "# 주소\n",
    "addr = detail.select_one('table.info')\n",
    "addr.find('td')\n",
    "addr"
   ]
  },
  {
   "cell_type": "code",
   "execution_count": 59,
   "metadata": {},
   "outputs": [],
   "source": [
    "driver.close()"
   ]
  },
  {
   "cell_type": "code",
   "execution_count": null,
   "metadata": {},
   "outputs": [],
   "source": []
  }
 ]
}