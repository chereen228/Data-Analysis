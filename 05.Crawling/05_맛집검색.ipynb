{
 "metadata": {
  "language_info": {
   "codemirror_mode": {
    "name": "ipython",
    "version": 3
   },
   "file_extension": ".py",
   "mimetype": "text/x-python",
   "name": "python",
   "nbconvert_exporter": "python",
   "pygments_lexer": "ipython3",
   "version": "3.8.5"
  },
  "orig_nbformat": 2,
  "kernelspec": {
   "name": "python385jvsc74a57bd08c1eae21719a0790335dcb83aad72b63b602cfe5cdb2bda0f60bc11d4f154e4b",
   "display_name": "Python 3.8.5 64-bit ('base': conda)"
  }
 },
 "nbformat": 4,
 "nbformat_minor": 2,
 "cells": [
  {
   "cell_type": "code",
   "execution_count": null,
   "metadata": {},
   "outputs": [],
   "source": [
    "# 상호, 요약정보(ex.서대문구 - 기타 한식), 주소, 전화번호\n",
    "# <a href = \"url\">\n",
    "# 페이지 넘어가면 url 바뀌는 것 염두"
   ]
  },
  {
   "source": [
    "### 충정로역 맛집 크롤링"
   ],
   "cell_type": "markdown",
   "metadata": {}
  },
  {
   "cell_type": "code",
   "execution_count": 88,
   "metadata": {},
   "outputs": [],
   "source": [
    "import time\n",
    "from selenium import webdriver\n",
    "from selenium.webdriver.common.keys import Keys\n",
    "import requests\n",
    "import pandas as pd"
   ]
  },
  {
   "source": [
    "#### 기본정보"
   ],
   "cell_type": "markdown",
   "metadata": {}
  },
  {
   "cell_type": "code",
   "execution_count": 12,
   "metadata": {},
   "outputs": [],
   "source": [
    "# 망고플레이트 메인 화면\n",
    "driver = webdriver.Chrome()\n",
    "driver.get('https://www.mangoplate.com/')"
   ]
  },
  {
   "cell_type": "code",
   "execution_count": 13,
   "metadata": {},
   "outputs": [],
   "source": [
    "# 충정로역 검색\n",
    "search_box = driver.find_element_by_css_selector('input#main-search.HomeSearchInput')\n",
    "search_box.send_keys('충정로역')"
   ]
  },
  {
   "cell_type": "code",
   "execution_count": 14,
   "metadata": {},
   "outputs": [],
   "source": [
    "# 검색결과 가져오기\n",
    "search_box.send_keys(Keys.ENTER)\n",
    "time.sleep(1)"
   ]
  },
  {
   "cell_type": "code",
   "execution_count": 15,
   "metadata": {},
   "outputs": [],
   "source": [
    "import requests\n",
    "import pandas as pd"
   ]
  },
  {
   "cell_type": "code",
   "execution_count": 17,
   "metadata": {},
   "outputs": [],
   "source": [
    "# 1페이지 데이터 크롤링\n",
    "url = 'https://www.mangoplate.com/search/%EC%B6%A9%EC%A0%95%EB%A1%9C%EC%97%AD'\n",
    "header = {'User-Agent': \n",
    "            \"Mozilla/5.0 (Windows NT 10.0; Win64; x64) AppleWebKit/537.36 (KHTML, like Gecko) Chrome/91.0.4472.77 Safari/537.36\"}\n",
    "req = requests.get(url, headers=header)\n",
    "html = req.text\n",
    "#html"
   ]
  },
  {
   "cell_type": "code",
   "execution_count": 18,
   "metadata": {},
   "outputs": [],
   "source": [
    "from bs4 import BeautifulSoup\n",
    "\n",
    "soup = BeautifulSoup(html, 'html.parser')"
   ]
  },
  {
   "cell_type": "code",
   "execution_count": 29,
   "metadata": {},
   "outputs": [
    {
     "output_type": "execute_result",
     "data": {
      "text/plain": [
       "20"
      ]
     },
     "metadata": {},
     "execution_count": 29
    }
   ],
   "source": [
    "# 맛집 리스트 가져오기\n",
    "delis = soup.select('figure.restaurant-item')\n",
    "len(delis)"
   ]
  },
  {
   "cell_type": "code",
   "execution_count": 30,
   "metadata": {},
   "outputs": [
    {
     "output_type": "execute_result",
     "data": {
      "text/plain": [
       "<figure class=\"restaurant-item\">\n",
       "<a class=\"only-desktop_not\" href=\"/restaurants/fvA4SbtNcpuV\" onclick=\"trackEvent('CLICK_RESTAURANT', {&quot;position&quot;:0,&quot;restaurant_key&quot;:[&quot;fvA4SbtNcpuV&quot;]})\">\n",
       "<div class=\"thumb\">\n",
       "<img alt=\"위드미치코 사진 - 서울시 서대문구 충정로3가 268\" class=\"center-croping lazy\" data-error=\"https://mp-seoul-image-production-s3.mangoplate.com/web/resources/kssf5eveeva_xlmy.jpg?fit=around|*:*&amp;crop=*:*;*,*&amp;output-format=jpg&amp;output-quality=80\" data-original=\"https://mp-seoul-image-production-s3.mangoplate.com/added_restaurants/403683_1466002629026633.jpg?fit=around|359:240&amp;crop=359:240;*,*&amp;output-format=jpg&amp;output-quality=80\"/>\n",
       "</div>\n",
       "</a>\n",
       "<figcaption>\n",
       "<div class=\"info\">\n",
       "<a href=\"/restaurants/fvA4SbtNcpuV\">\n",
       "<h2 class=\"title\">위드미치코\n",
       "</h2>\n",
       "</a>\n",
       "<strong class=\"point search_point\">4.3</strong>\n",
       "<p class=\"etc\">서대문구 - <span>기타 한식</span></p>\n",
       "<p class=\"etc_info\">\n",
       "<span class=\"view_count\">47,909</span>\n",
       "<span class=\"review_count\">23</span>\n",
       "</p>\n",
       "</div>\n",
       "</figcaption>\n",
       "</figure>"
      ]
     },
     "metadata": {},
     "execution_count": 30
    }
   ],
   "source": [
    "deli = delis[0]\n",
    "deli"
   ]
  },
  {
   "cell_type": "code",
   "execution_count": 33,
   "metadata": {},
   "outputs": [
    {
     "output_type": "execute_result",
     "data": {
      "text/plain": [
       "'위드미치코'"
      ]
     },
     "metadata": {},
     "execution_count": 33
    }
   ],
   "source": [
    "# 상호명\n",
    "name = deli.select_one('.info')\n",
    "name = name.find('a').get_text().strip()   # .get_text()\n",
    "name"
   ]
  },
  {
   "cell_type": "code",
   "execution_count": 35,
   "metadata": {},
   "outputs": [
    {
     "output_type": "execute_result",
     "data": {
      "text/plain": [
       "'서대문구 - 기타 한식'"
      ]
     },
     "metadata": {},
     "execution_count": 35
    }
   ],
   "source": [
    "# 요약정보\n",
    "summary = deli.select_one('.etc').get_text()\n",
    "summary"
   ]
  },
  {
   "cell_type": "code",
   "execution_count": 82,
   "metadata": {},
   "outputs": [],
   "source": [
    "name_list, summary_list = [], []\n",
    "for deli in delis:\n",
    "    name = deli.select_one('.info')\n",
    "    name = name.find('a').get_text().strip()\n",
    "    summary = deli.select_one('.etc').get_text()\n",
    "\n",
    "    name_list.append(name)\n",
    "    summary_list.append(summary)"
   ]
  },
  {
   "cell_type": "code",
   "execution_count": 124,
   "metadata": {},
   "outputs": [
    {
     "output_type": "execute_result",
     "data": {
      "text/plain": [
       "            상호                  요약\n",
       "15   곽대리꼼대리닭대리  시청/남대문 - 닭 / 오리 요리\n",
       "16        대피공간     서대문구 - 칵테일 / 와인\n",
       "17         벙커1  서대문구 - 치킨 / 호프 / 펍\n",
       "18  마포갈비생고기전문점        서대문구 - 고기 요리\n",
       "19         히비야        서대문구 - 까스 요리"
      ],
      "text/html": "<div>\n<style scoped>\n    .dataframe tbody tr th:only-of-type {\n        vertical-align: middle;\n    }\n\n    .dataframe tbody tr th {\n        vertical-align: top;\n    }\n\n    .dataframe thead th {\n        text-align: right;\n    }\n</style>\n<table border=\"1\" class=\"dataframe\">\n  <thead>\n    <tr style=\"text-align: right;\">\n      <th></th>\n      <th>상호</th>\n      <th>요약</th>\n    </tr>\n  </thead>\n  <tbody>\n    <tr>\n      <th>15</th>\n      <td>곽대리꼼대리닭대리</td>\n      <td>시청/남대문 - 닭 / 오리 요리</td>\n    </tr>\n    <tr>\n      <th>16</th>\n      <td>대피공간</td>\n      <td>서대문구 - 칵테일 / 와인</td>\n    </tr>\n    <tr>\n      <th>17</th>\n      <td>벙커1</td>\n      <td>서대문구 - 치킨 / 호프 / 펍</td>\n    </tr>\n    <tr>\n      <th>18</th>\n      <td>마포갈비생고기전문점</td>\n      <td>서대문구 - 고기 요리</td>\n    </tr>\n    <tr>\n      <th>19</th>\n      <td>히비야</td>\n      <td>서대문구 - 까스 요리</td>\n    </tr>\n  </tbody>\n</table>\n</div>"
     },
     "metadata": {},
     "execution_count": 124
    }
   ],
   "source": [
    "df = pd.DataFrame({\n",
    "    '상호': name_list,\n",
    "    '요약': summary_list\n",
    "})\n",
    "df.tail()"
   ]
  },
  {
   "source": [
    "#### 상세정보"
   ],
   "cell_type": "markdown",
   "metadata": {}
  },
  {
   "cell_type": "code",
   "execution_count": 118,
   "metadata": {},
   "outputs": [],
   "source": [
    "# 상세정보 클릭\n",
    "driver.find_element_by_xpath('/html/body/main/article/div[2]/div/div/section/div[3]/ul/li[1]/div[1]/figure/figcaption/div/a').click()\n",
    "time.sleep(1)"
   ]
  },
  {
   "cell_type": "code",
   "execution_count": 126,
   "metadata": {},
   "outputs": [],
   "source": [
    "url = \"https://www.mangoplate.com/restaurants/fvA4SbtNcpuV\"\n",
    "header = {'User-Agent': \"Mozilla/5.0 (Windows NT 10.0; Win64; x64) AppleWebKit/537.36 (KHTML, like Gecko) Chrome/91.0.4472.77 Safari/537.36\"}\n",
    "req = requests.get(url, headers=header)\n",
    "html = req.text"
   ]
  },
  {
   "cell_type": "code",
   "execution_count": 127,
   "metadata": {},
   "outputs": [
    {
     "output_type": "execute_result",
     "data": {
      "text/plain": [
       "1"
      ]
     },
     "metadata": {},
     "execution_count": 127
    }
   ],
   "source": [
    "details = soup.select('div.column-contents')\n",
    "len(details)"
   ]
  },
  {
   "cell_type": "code",
   "execution_count": 123,
   "metadata": {},
   "outputs": [
    {
     "output_type": "execute_result",
     "data": {
      "text/plain": [
       "mp;output-quality=80\"/>\n",
       "</div>\n",
       "</a>\n",
       "<figcaption>\n",
       "<div class=\"info\">\n",
       "<a href=\"/restaurants/Z3ELf7L38r\">\n",
       "<h2 class=\"title\">세양원\n",
       "</h2>\n",
       "</a>\n",
       "<strong class=\"point search_point\"></strong>\n",
       "<p class=\"etc\">서대문구 - <span>정통 중식 / 일반 중식</span></p>\n",
       "<p class=\"etc_info\">\n",
       "<span class=\"view_count\">4,871</span>\n",
       "<span class=\"review_count\">3</span>\n",
       "</p>\n",
       "</div>\n",
       "</figcaption>\n",
       "</figure>\n",
       "</div>\n",
       "<div class=\"list-restaurant-item\" data-subcusine_code=\"4\">\n",
       "<figure class=\"restaurant-item\">\n",
       "<a class=\"only-desktop_not\" href=\"/restaurants/I6lGHgPUyQ\" onclick=\"trackEvent('CLICK_RESTAURANT', {&quot;position&quot;:5,&quot;restaurant_key&quot;:[&quot;I6lGHgPUyQ&quot;]})\">\n",
       "<div class=\"thumb\">\n",
       "<img alt=\"봉추찜닭 사진 - 서울시 서대문구 충정로3가 63-1\" class=\"center-croping lazy\" data-error=\"https://mp-seoul-image-production-s3.mangoplate.com/web/resources/kssf5eveeva_xlmy.jpg?fit=around|*:*&amp;crop=*:*;*,*&amp;output-format=jpg&amp;output-quality=80\" data-original=\"https://mp-seoul-image-production-s3.mangoplate.com/11486/younhyo81_7.jpg?fit=around|359:240&amp;crop=359:240;*,*&amp;output-format=jpg&amp;output-quality=80\"/>\n",
       "</div>\n",
       "</a>\n",
       "<figcaption>\n",
       "<div class=\"info\">\n",
       "<a href=\"/restaurants/I6lGHgPUyQ\">\n",
       "<h2 class=\"title\">봉추찜닭\n",
       "                                    <span class=\"branch\">(서대문(충정로)점)</span>\n",
       "</h2>\n",
       "</a>\n",
       "<strong class=\"point search_point expected\"></strong>\n",
       "<p class=\"etc\">서대문구 - <span>닭 / 오리 요리</span></p>\n",
       "<p class=\"etc_info\">\n",
       "<span class=\"view_count\">3,199</span>\n",
       "<span class=\"review_count\">1</span>\n",
       "</p>\n",
       "</div>\n",
       "</figcaption>\n",
       "</figure>\n",
       "</div>\n",
       "<div class=\"adview_server_render_search_result_item\"></div>\n",
       "</li>\n",
       "<li class=\"list-restaurant server_render_search_result_item\">\n",
       "<div class=\"list-restaurant-item\" data-subcusine_code=\"26\">\n",
       "<figure class=\"restaurant-item\">\n",
       "<a class=\"only-desktop_not\" href=\"/restaurants/GQFOTYSSg3nY\" onclick=\"trackEvent('CLICK_RESTAURANT', {&quot;position&quot;:6,&quot;restaurant_key&quot;:[&quot;GQFOTYSSg3nY&quot;]})\">\n",
       "<div class=\"thumb\">\n",
       "<img alt=\"차이리 사진 - 서울시 서대문구 합동 31-13\" class=\"center-croping lazy\" data-error=\"https://mp-seoul-image-production-s3.mangoplate.com/web/resources/kssf5eveeva_xlmy.jpg?fit=around|*:*&amp;crop=*:*;*,*&amp;output-format=jpg&amp;output-quality=80\" data-original=\"https://mp-seoul-image-production-s3.mangoplate.com/457162/1945382_1620808754408_132060?fit=around|359:240&amp;crop=359:240;*,*&amp;output-format=jpg&amp;output-quality=80\"/>\n",
       "</div>\n",
       "</a>\n",
       "<figcaption>\n",
       "<div class=\"info\">\n",
       "<a href=\"/restaurants/GQFOTYSSg3nY\">\n",
       "<h2 class=\"title\">차이리\n",
       "</h2>\n",
       "</a>\n",
       "<strong class=\"point search_point expected\"></strong>\n",
       "<p class=\"etc\">서대문구 - <span>정통 중식 / 일반 중식</span></p>\n",
       "<p class=\"etc_info\">\n",
       "<span class=\"view_count\">53</span>\n",
       "<span class=\"review_count\">0</span>\n",
       "</p>\n",
       "</div>\n",
       "</figcaption>\n",
       "</figure>\n",
       "</div>\n",
       "<div class=\"list-restaurant-item\" data-subcusine_code=\"8\">\n",
       "<figure class=\"restaurant-item\">\n",
       "<a class=\"only-desktop_not\" href=\"/restaurants/3N4bADRuxuuy\" onclick=\"trackEvent('CLICK_RESTAURANT', {&quot;position&quot;:6,&quot;restaurant_key&quot;:[&quot;3N4bADRuxuuy&quot;]})\">\n",
       "<div class=\"thumb\">\n",
       "<img alt=\"해주면가 사진 - 서울시 서대문구 충정로3가 465\" class=\"center-croping lazy\" data-error=\"https://mp-seoul-image-production-s3.mangoplate.com/web/resources/kssf5eveeva_xlmy.jpg?fit=around|*:*&amp;crop=*:*;*,*&amp;output-format=jpg&amp;output-quality=80\" data-original=\"https://mp-seoul-image-production-s3.mangoplate.com/385419/1544414_1578641169338_5128?fit=around|359:240&amp;crop=359:240;*,*&amp;output-format=jpg&amp;output-quality=80\"/>\n",
       "</div>\n",
       "</a>\n",
       "<figcaption>\n",
       "<div class=\"info\">\n",
       "<a href=\"/restaurants/3N4bADRuxuuy\">\n",
       "<h2 class=\"title\">해주면가\n",
       "</h2>\n",
       "</a>\n",
       "<strong class=\"point search_point\"></strong>\n",
       "<p class=\"etc\">서대문구 - <span>기타 한식</span></p>\n",
       "<p class=\"etc_info\">\n",
       "<span class=\"view_count\">3,024</span>\n",
       "<span class=\"review_count\">3</span>\n",
       "</p>\n",
       "</div>\n",
       "</figcaption>\n",
       "</figure>\n",
       "</div>\n",
       "<div class=\"adview_server_render_search_result_item\"></div>\n",
       "</li>\n",
       "<li class=\"list-restaurant server_render_search_result_item\">\n",
       "<div class=\"list-restaurant-item\" data-subcusine_code=\"30\">\n",
       "<figure class=\"restaurant-item\">\n",
       "<a class=\"only-desktop_not\" href=\"/restaurants/0LX_cOFlq9gF\" onclick=\"trackEvent('CLICK_RESTAURANT', {&quot;position&quot;:7,&quot;restaurant_key&quot;:[&quot;0LX_cOFlq9gF&quot;]})\">\n",
       "<div class=\"thumb\">\n",
       "<img alt=\"작은언덕 카페 사진 - 서울시 중구 중림동 156-93\" class=\"center-croping lazy\" data-error=\"https://mp-seoul-image-production-s3.mangoplate.com/web/resources/kssf5eveeva_xlmy.jpg?fit=around|*:*&amp;crop=*:*;*,*&amp;output-format=jpg&amp;output-quality=80\" data-original=\"https://mp-seoul-image-production-s3.mangoplate.com/419584/743008_1588833875132_20056?fit=around|359:240&amp;crop=359:240;*,*&amp;output-format=jpg&amp;output-quality=80\"/>\n",
       "</div>\n",
       "</a>\n",
       "<figcaption>\n",
       "<div class=\"info\">\n",
       "<a href=\"/restaurants/0LX_cOFlq9gF\">\n",
       "<h2 class=\"title\">작은언덕 카페\n",
       "</h2>\n",
       "</a>\n",
       "<strong class=\"point search_point\"></strong>\n",
       "<p class=\"etc\">중구 - <span>카페 / 디저트</span></p>\n",
       "<p class=\"etc_info\">\n",
       "<span class=\"view_count\">616</span>\n",
       "<span class=\"review_count\">1</span>\n",
       "</p>\n",
       "</div>\n",
       "</figcaption>\n",
       "</figure>\n",
       "</div>\n",
       "<div class=\"list-restaurant-item\" data-subcusine_code=\"4\">\n",
       "<figure class=\"restaurant-item\">\n",
       "<a class=\"only-desktop_not\" href=\"/restaurants/ULcnAz91fi\" onclick=\"trackEvent('CLICK_RESTAURANT', {&quot;position&quot;:7,&quot;restaurant_key&quot;:[&quot;ULcnAz91fi&quot;]})\">\n",
       "<div class=\"thumb\">\n",
       "<img alt=\"곽대리꼼대리닭대리 사진 - 서울시 중구 중림동 398-6\" class=\"center-croping lazy\" data-error=\"https://mp-seoul-image-production-s3.mangoplate.com/web/resources/kssf5eveeva_xlmy.jpg?fit=around|*:*&amp;crop=*:*;*,*&amp;output-format=jpg&amp;output-quality=80\" data-original=\"https://mp-seoul-image-production-s3.mangoplate.com/added_restaurants/604534_1484845914612418.jpg?fit=around|359:240&amp;crop=359:240;*,*&amp;output-format=jpg&amp;output-quality=80\"/>\n",
       "</div>\n",
       "</a>\n",
       "<figcaption>\n",
       "<div class=\"info\">\n",
       "<a href=\"/restaurants/ULcnAz91fi\">\n",
       "<h2 class=\"title\">곽대리꼼대리닭대리\n",
       "</h2>\n",
       "</a>\n",
       "<strong class=\"point search_point\"></strong>\n",
       "<p class=\"etc\">시청/남대문 - <span>닭 / 오리 요리</span></p>\n",
       "<p class=\"etc_info\">\n",
       "<span class=\"view_count\">2,853</span>\n",
       "<span class=\"review_count\">5</span>\n",
       "</p>\n",
       "</div>\n",
       "</figcaption>\n",
       "</figure>\n",
       "</div>\n",
       "<div class=\"adview_server_render_search_result_item\"></div>\n",
       "</li>\n",
       "<li class=\"list-restaurant server_render_search_result_item\">\n",
       "<div class=\"list-restaurant-item\" data-subcusine_code=\"32\">\n",
       "<figure class=\"restaurant-item\">\n",
       "<a class=\"only-desktop_not\" href=\"/restaurants/faN1mwQ3famg\" onclick=\"trackEvent('CLICK_RESTAURANT', {&quot;position&quot;:8,&quot;restaurant_key&quot;:[&quot;faN1mwQ3famg&quot;]})\">\n",
       "<div class=\"thumb\">\n",
       "<img alt=\"대피공간 사진 - 서울시 서대문구 충정로3가 250-4\" class=\"center-croping lazy\" data-error=\"https://mp-seoul-image-production-s3.mangoplate.com/web/resources/kssf5eveeva_xlmy.jpg?fit=around|*:*&amp;crop=*:*;*,*&amp;output-format=jpg&amp;output-quality=80\" data-original=\"https://mp-seoul-image-production-s3.mangoplate.com/1906664_1615124758850257.jpg?fit=around|359:240&amp;crop=359:240;*,*&amp;output-format=jpg&amp;output-quality=80\"/>\n",
       "</div>\n",
       "</a>\n",
       "<figcaption>\n",
       "<div class=\"info\">\n",
       "<a href=\"/restaurants/faN1mwQ3famg\">\n",
       "<h2 class=\"title\">대피공간\n",
       "</h2>\n",
       "</a>\n",
       "<strong class=\"point search_point expected\"></strong>\n",
       "<p class=\"etc\">서대문구 - <span>칵테일 / 와인</span></p>\n",
       "<p class=\"etc_info\">\n",
       "<span class=\"view_count\">391</span>\n",
       "<span class=\"review_count\">1</span>\n",
       "</p>\n",
       "</div>\n",
       "</figcaption>\n",
       "</figure>\n",
       "</div>\n",
       "<div class=\"list-restaurant-item\" data-subcusine_code=\"33\">\n",
       "<figure class=\"restaurant-item\">\n",
       "<a class=\"only-desktop_not\" href=\"/restaurants/jibhjrZgg7iZ\" onclick=\"trackEvent('CLICK_RESTAURANT', {&quot;position&quot;:8,&quot;restaurant_key&quot;:[&quot;jibhjrZgg7iZ&quot;]})\">\n",
       "<div class=\"thumb\">\n",
       "<img alt=\"벙커1 사진 - 서울시 서대문구 충정로3가 268\" class=\"center-croping lazy\" data-error=\"https://mp-seoul-image-production-s3.mangoplate.com/web/resources/kssf5eveeva_xlmy.jpg?fit=around|*:*&amp;crop=*:*;*,*&amp;output-format=jpg&amp;output-quality=80\" data-original=\"https://mp-seoul-image-production-s3.mangoplate.com/added_restaurants/14650_1482196912111819.jpg?fit=around|359:240&amp;crop=359:240;*,*&amp;output-format=jpg&amp;output-quality=80\"/>\n",
       "</div>\n",
       "</a>\n",
       "<figcaption>\n",
       "<div class=\"info\">\n",
       "<a href=\"/restaurants/jibhjrZgg7iZ\">\n",
       "<h2 class=\"title\">벙커1\n",
       "</h2>\n",
       "</a>\n",
       "<strong class=\"point search_point\"></strong>\n",
       "<p class=\"etc\">서대문구 - <span>치킨 / 호프 / 펍</span></p>\n",
       "<p class=\"etc_info\">\n",
       "<span class=\"view_count\">7,586</span>\n",
       "<span class=\"review_count\">2</span>\n",
       "</p>\n",
       "</div>\n",
       "</figcaption>\n",
       "</figure>\n",
       "</div>\n",
       "<div class=\"adview_server_render_search_result_item\"></div>\n",
       "</li>\n",
       "<li class=\"list-restaurant server_render_search_result_item\">\n",
       "<div class=\"list-restaurant-item\" data-subcusine_code=\"5\">\n",
       "<figure class=\"restaurant-item\">\n",
       "<a class=\"only-desktop_not\" href=\"/restaurants/YoqFlGs2yJMk\" onclick=\"trackEvent('CLICK_RESTAURANT', {&quot;position&quot;:9,&quot;restaurant_key&quot;:[&quot;YoqFlGs2yJMk&quot;]})\">\n",
       "<div class=\"thumb\">\n",
       "<img alt=\"마포갈비생고기전문점 사진 - 서울시 서대문구 충정로3가 128-10\" class=\"center-croping lazy\" data-error=\"https://mp-seoul-image-production-s3.mangoplate.com/web/resources/kssf5eveeva_xlmy.jpg?fit=around|*:*&amp;crop=*:*;*,*&amp;output-format=jpg&amp;output-quality=80\" data-original=\"https://mp-seoul-image-production-s3.mangoplate.com/1704015_1616300747848747.jpg?fit=around|359:240&amp;crop=359:240;*,*&amp;output-format=jpg&amp;output-quality=80\"/>\n",
       "</div>\n",
       "</a>\n",
       "<figcaption>\n",
       "<div class=\"info\">\n",
       "<a href=\"/restaurants/YoqFlGs2yJMk\">\n",
       "<h2 class=\"title\">마포갈비생고기전문점\n",
       "</h2>\n",
       "</a>\n",
       "<strong class=\"point search_point\"></strong>\n",
       "<p class=\"etc\">서대문구 - <span>고기 요리</span></p>\n",
       "<p class=\"etc_info\">\n",
       "<span class=\"view_count\">711</span>\n",
       "<span class=\"review_count\">2</span>\n",
       "</p>\n",
       "</div>\n",
       "</figcaption>\n",
       "</figure>\n",
       "</div>\n",
       "<div class=\"list-restaurant-item\" data-subcusine_code=\"21\">\n",
       "<figure class=\"restaurant-item\">\n",
       "<a class=\"only-desktop_not\" href=\"/restaurants/MHdHa7O9oy\" onclick=\"trackEvent('CLICK_RESTAURANT', {&quot;position&quot;:9,&quot;restaurant_key&quot;:[&quot;MHdHa7O9oy&quot;]})\">\n",
       "<div class=\"thumb\">\n",
       "<img alt=\"히비야 사진 - 서울시 서대문구 충정로3가 368\" class=\"center-croping lazy\" data-error=\"https://mp-seoul-image-production-s3.mangoplate.com/web/resources/kssf5eveeva_xlmy.jpg?fit=around|*:*&amp;crop=*:*;*,*&amp;output-format=jpg&amp;output-quality=80\" data-original=\"https://mp-seoul-image-production-s3.mangoplate.com/added_restaurants/58448_1447565083816.jpg?fit=around|359:240&amp;crop=359:240;*,*&amp;output-format=jpg&amp;output-quality=80\"/>\n",
       "</div>\n",
       "</a>\n",
       "<figcaption>\n",
       "<div class=\"info\">\n",
       "<a href=\"/restaurants/MHdHa7O9oy\">\n",
       "<h2 class=\"title\">히비야\n",
       "</h2>\n",
       "</a>\n",
       "<strong class=\"point search_point\"></strong>\n",
       "<p class=\"etc\">서대문구 - <span>까스 요리</span></p>\n",
       "<p class=\"etc_info\">\n",
       "<span class=\"view_count\">4,457</span>\n",
       "<span class=\"review_count\">4</span>\n",
       "</p>\n",
       "</div>\n",
       "</figcaption>\n",
       "</figure>\n",
       "</div>\n",
       "<div class=\"adview_server_render_search_result_item\"></div>\n",
       "</li>\n",
       "<search-item ng-repeat=\"restaurant_pair in search_result_list\" ng-show=\"!is_first_search_result\" picture-lebel=\"사진\"></search-item>\n",
       "</ul>\n",
       "</div>\n",
       "<div class=\"paging-container\" ng-cloak=\"\" ng-hide=\"!search_result_list.length &amp;&amp; !ajaxing\">\n",
       "<p class=\"paging\">\n",
       "<a href=\"#\" ng-class=\"{selected: $index + 1 == page}\" ng-click=\"get_next_page($index + 1)\" ng-repeat=\"paging in get_paging_array(search_all_count) | limitTo: max_page track by $index\" onclick=\"trackEvent('CLICK_SEARCH_PAGE'); return false;\">{{::$index + 1}}</a>\n",
       "</p>\n",
       "</div>\n",
       "<div class=\"search_result_empty_message\" ng-cloak=\"\" ng-show=\"!search_result_list.length &amp;&amp; !ajaxing\">\n",
       "<p class=\"search_result_empty_message_title\" ng-show=\"!move_search\">\n",
       "<span class=\"mango_text\">'충정로역'</span>에 대한 검색 결과가 없습니다.\n",
       "              </p>\n",
       "<p class=\"search_result_empty_message_title\" ng-show=\"move_search\">\n",
       "                지도 내 검색에 대한 검색 결과가 없습니다.\n",
       "              </p>\n",
       "<div class=\"search_result_empty_message_content\">\n",
       "<p class=\"mango_text search_result_empty_message_content_sub_title\">검색한 식당이 망고플레이트에 보이지 않을 땐??</p>\n",
       "<ul class=\"search_result_empty_message_content_list\">\n",
       "<li>1. 망고플레이트 모바일 앱을 설치한다</li>\n",
       "<li>2. ‘+’버튼을 눌러 식당 등록하기를 터치!</li>\n",
       "<li>3. 등록할 식당의 정보를 입력한 후 등록 완료!</li>\n",
       "</ul>\n",
       "</div>\n",
       "</div>\n",
       "<div class=\"dfp_ad_paging_bottom\"></div>\n",
       "</section>\n",
       "</div>\n",
       "<aside class=\"popup search-filter\">\n",
       "<div class=\"inner\">\n",
       "<div>\n",
       "<!--<legend>검색 필터</legend>-->\n",
       "<div class=\"filter-item\">\n",
       "<label for=\"sorting01\">검색 필터</label>\n",
       "<p class=\"order_wrap\">\n",
       "<input id=\"sorting01\" name=\"sorting\" ng-checked=\"is_checked_sorting_value(2)\" type=\"radio\" value=\"2\"/><label data-filter=\"2\" for=\"sorting01\" ng-click=\"set_temp_offset($event)\" onclick=\"trackEvent('CLICK_ORDER_BY_RATING')\">평점순</label>\n",
       "<input id=\"sorting02\" name=\"sorting\" ng-checked=\"is_checked_sorting_value(0)\" type=\"radio\" value=\"0\"/><label data-filter=\"0\" for=\"sorting02\" ng-click=\"set_temp_offset($event)\" onclick=\"trackEvent('CLICK_ORDER_BY_POPULARITY')\">인기순</label>\n",
       "</p>\n",
       "</div>\n",
       "<div class=\"filter-item\">\n",
       "<span class=\"options\">중복 선택 가능</span>\n",
       "<label for=\"\">가격/1인당</label>\n",
       "<p class=\"cost_wrap\">\n",
       "<input class=\"cost\" data-value=\"1\" id=\"cost01\" name=\"cost\" ng-checked=\"is_checked_price_value(price_filter_name, 1)\" type=\"checkbox\"/><label class=\"cost01 cost-zoom\" data-filter=\"1\" for=\"cost01\" ng-click=\"set_filter_value(price_filter_name, $event, price_filter_value_hadler)\" onclick=\"trackEvent('CLICK_PRICE_1')\"><span>만원미만</span></label>\n",
       "<input class=\"cost\" data-value=\"2\" id=\"cost02\" name=\"cost\" ng-checked=\"is_checked_price_value(price_filter_name, 2)\" type=\"checkbox\"/><label class=\"cost02 cost-zoom\" data-filter=\"2\" for=\"cost02\" ng-click=\"set_filter_value(price_filter_name, $event, price_filter_value_hadler)\" onclick=\"trackEvent('CLICK_PRICE_2')\"><span>1만원대</span></label>\n",
       "<input class=\"cost\" data-value=\"3\" id=\"cost03\" name=\"cost\" ng-checked=\"is_checked_price_value(price_filter_name, 3)\" type=\"checkbox\"/><label class=\"cost03 cost-zoom\" data-filter=\"3\" for=\"cost03\" ng-click=\"set_filter_value(price_filter_name, $event, price_filter_value_hadler)\" onclick=\"trackEvent('CLICK_PRICE_3')\"><span>2만원대</span></label>\n",
       "<input class=\"cost\" data-value=\"4\" id=\"cost04\" name=\"cost\" ng-checked=\"is_checked_price_value(price_filter_name, 4)\" type=\"checkbox\"/><label class=\"cost04 cost-zoom\" data-filter=\"4,5\" for=\"cost04\" ng-click=\"set_filter_value(price_filter_name, $event, price_filter_value_hadler)\" onclick=\"trackEvent('CLICK_PRICE_4')\"><span>3만원대</span></label>\n",
       "</p>\n",
       "</div>\n",
       "<div class=\"filter-item only-desktop\">\n",
       "<span class=\"options\">중복 선택 가능</span>\n",
       "<label for=\"\">지역</label>\n",
       "<p class=\"region\" ng-cloak=\"\">\n",
       "<a data-filter=\"{{::region_item.type_value}}\" href=\"#\" ng-bind=\"region_item.display_text\" ng-class=\"{selected: filter_cuisine_value == region_item.type_value}\" ng-click=\"selected_region($event)\" ng-repeat=\"region_item in filter_region_list | limitTo: filter_region_list_length\" onclick=\"trackEvent('CLICK_LOCATION'); return false;\"></a>\n",
       "<a class=\"more\" href=\"#\" ng-click=\"show_filter_more_region()\" onclick=\"trackEvent('CLICK_LOCATION'); return false;\">더보기</a>\n",
       "</p>\n",
       "<p class=\"metro\">\n",
       "<span class=\"metro_btn\" ng-repeat=\"metro_item in filter_metro_list\">\n",
       "<input data-value=\"{{::metro_item.type_value}}\" id=\"region01_0{{::$index + 1}}\" name=\"region\" ng-checked=\"is_checked_filter_value(metro_filter_name, metro_item.type_value)\" type=\"checkbox\">\n",
       "<label class=\"small\" data-filter=\"{{::metro_item.type_value}}\" for=\"region01_0{{::$index + 1}}\" ng-click=\"set_filter_value(metro_filter_name, $event, default_filter_value_hadler)\" onclick=\"trackEvent('CLICK_LOCATION')\">\n",
       "<span data-filter=\"{{::metro_item.type_value}}\" ng-bind=\"metro_item.display_text\"></span>\n",
       "</label>\n",
       "</input></span>\n",
       "<!--<button class=\"btn-region-more\">지역 더보기</button>-->\n",
       "<div class=\"btn-region-cancel_wrap\" ng-class=\"{visible: is_metro_filter_on()}\">\n",
       "<button class=\"btn-region-cancel\" ng-click=\"reset_metro()\">전체 선택 취소</button>\n",
       "</div>\n",
       "</p>\n",
       "<div class=\"more-region\">\n",
       "<a data-filter=\"{{::region_item.type_value}}\" href=\"#\" ng-class=\"{selected: filter_cuisine_value == region_item.type_value}\" ng-click=\"selected_region($event)\" ng-repeat=\"region_item in filter_region_list\" ng-show=\"$index + 1 &gt; filter_region_list_length\" onclick=\"trackEvent('CLICK_LOCATION');return false;\">{{::region_item.display_text}}</a>\n",
       "</div>\n",
       "</div>\n",
       "<div class=\"filter-item only-desktop\">\n",
       "<span class=\"options\">중복 선택 가능</span>\n",
       "<label for=\"\">음식종류</label>\n",
       "<p class=\"cuisine_list_wrap\">\n",
       "<input class=\"food\" data-value=\"1\" id=\"food01\" name=\"food\" ng-checked=\"is_checked_filter_value(cusine_filter_name, 1)\" type=\"checkbox\"/><label class=\"food01\" data-filter=\"1\" for=\"food01\" ng-click=\"set_filter_value(cusine_filter_name, $event, default_filter_value_hadler)\">한식</label>\n",
       "<input class=\"food\" data-value=\"3\" id=\"food02\" name=\"food\" ng-checked=\"is_checked_filter_value(cusine_filter_name, 3)\" type=\"checkbox\"/><label class=\"food02\" data-filter=\"3\" for=\"food02\" ng-click=\"set_filter_value(cusine_filter_name, $event, default_filter_value_hadler)\">일식</label>\n",
       "<input class=\"food\" data-value=\"2\" id=\"food03\" name=\"food\" ng-checked=\"is_checked_filter_value(cusine_filter_name, 2)\" type=\"checkbox\"/><label class=\"food03\" data-filter=\"2\" for=\"food03\" ng-click=\"set_filter_value(cusine_filter_name, $event, default_filter_value_hadler)\">중식</label>\n",
       "<input class=\"food\" data-value=\"4\" id=\"food04\" name=\"food\" ng-checked=\"is_checked_filter_value(cusine_filter_name, 4)\" type=\"checkbox\"/><label class=\"food04 line-break\" data-filter=\"4\" for=\"food04\" ng-click=\"set_filter_value(cusine_filter_name, $event, default_filter_value_hadler)\">양식</label>\n",
       "<input class=\"food\" data-value=\"5\" id=\"food05\" name=\"food\" ng-checked=\"is_checked_filter_value(cusine_filter_name, 5)\" type=\"checkbox\"/><label class=\"food05\" data-filter=\"5\" for=\"food05\" ng-click=\"set_filter_value(cusine_filter_name, $event, default_filter_value_hadler)\">세계음식</label>\n",
       "<input class=\"food\" data-value=\"6\" id=\"food06\" name=\"food\" ng-checked=\"is_checked_filter_value(cusine_filter_name, 6)\" type=\"checkbox\"/><label class=\"food06\" data-filter=\"6\" for=\"food06\" ng-click=\"set_filter_value(cusine_filter_name, $event, default_filter_value_hadler)\">뷔페</label>\n",
       "<input class=\"food\" data-value=\"7\" id=\"food07\" name=\"food\" ng-checked=\"is_checked_filter_value(cusine_filter_name, 7)\" type=\"checkbox\"/><label class=\"food07\" data-filter=\"7\" for=\"food07\" ng-click=\"set_filter_value(cusine_filter_name, $event, default_filter_value_hadler)\">카페</label>\n",
       "<input class=\"food\" data-value=\"8\" id=\"food08\" name=\"food\" ng-checked=\"is_checked_filter_value(cusine_filter_name, 8)\" type=\"checkbox\"/><label class=\"food08 line-break\" data-filter=\"8\" for=\"food08\" ng-click=\"set_filter_value(cusine_filter_name, $event, default_filter_value_hadler)\">주점</label>\n",
       "</p>\n",
       "</div>\n",
       "<div class=\"filter-item only-desktop\">\n",
       "<label for=\"parking01\">주차</label>\n",
       "<p>\n",
       "<input id=\"parking01\" name=\"parking\" ng-checked=\"is_checked_parking_value(0)\" type=\"radio\" value=\"0\"/><label data-filter=\"0\" for=\"parking01\" ng-click=\"set_filter_value(parking_filter_name, $event, default_filter_value_hadler)\"> 상관없음</label>\n",
       "<input id=\"parking02\" name=\"parking\" ng-checked=\"is_checked_parking_value(1)\" type=\"radio\" value=\"1\"/><label data-filter=\"1\" for=\"parking02\" ng-click=\"set_filter_value(parking_filter_name, $event, default_filter_value_hadler)\">가능한 곳만</label>\n",
       "</p>\n",
       "</div>\n",
       "</div>\n",
       "<!-- 앱으로 연결 -->\n",
       "<aside class=\"connect-mp-app\" style=\"background-image: url('https://d1jrqqyoo3n46w.cloudfront.net/web/resources/prwed8gjtoikxz6h.png')\">\n",
       "<div class=\"inner\">\n",
       "<p>앱에서 검색하기</p>\n",
       "<p class=\"icon\">\n",
       "<img alt=\"망고플레이트 아이콘\" src=\"https://mp-seoul-image-production-s3.mangoplate.com/web/resources/gc6axol9tbyfjkj-.png?fit=around|*:*&amp;crop=*:*;*,*&amp;output-format=jpg&amp;output-quality=80\"/>\n",
       "</p>\n",
       "<p>망고플레이트 앱에서 모든 필터로 간편하게 맛집들을 검색해보세요!</p>\n",
       "<a class=\"btn-shortcut-app\" data-event_name=\"CLICK_DWN_POPUPFILTER_W1\" data-event_term=\"V1\" href=\"#\" onclick=\"trackEvent('CLICK_DWN_POPUPFILTER_W1'); go_to_app_or_market(this);return false;\">앱에서 입맛대로 검색하기</a>\n",
       "</div>\n",
       "</aside>\n",
       "</div>\n",
       "<div class=\"submit-container\">\n",
       "<button class=\"btn cancel\" ng-click=\"close_filter_button()\" onclick=\"trackEvent('CLICK_CLOSE_FILTER')\">취소</button>\n",
       "<button class=\"btn submit\" ng-click=\"do_filter_search()\" onclick=\"trackEvent('CLICK_FILTER_APPLY')\" type=\"submit\" value=\"\">적용</button>\n",
       "</div>\n",
       "</aside>\n",
       "</div>"
      ]
     },
     "metadata": {},
     "execution_count": 123
    }
   ],
   "source": [
    "detail = details[0]\n",
    "detail"
   ]
  },
  {
   "cell_type": "code",
   "execution_count": 114,
   "metadata": {},
   "outputs": [
    {
     "output_type": "error",
     "ename": "AttributeError",
     "evalue": "'NoneType' object has no attribute 'find'",
     "traceback": [
      "\u001b[1;31m---------------------------------------------------------------------------\u001b[0m",
      "\u001b[1;31mAttributeError\u001b[0m                            Traceback (most recent call last)",
      "\u001b[1;32m<ipython-input-114-c5bd4c0b6829>\u001b[0m in \u001b[0;36m<module>\u001b[1;34m\u001b[0m\n\u001b[0;32m      1\u001b[0m \u001b[1;31m# 주소\u001b[0m\u001b[1;33m\u001b[0m\u001b[1;33m\u001b[0m\u001b[1;33m\u001b[0m\u001b[0m\n\u001b[0;32m      2\u001b[0m \u001b[0maddr\u001b[0m \u001b[1;33m=\u001b[0m \u001b[0mdetail\u001b[0m\u001b[1;33m.\u001b[0m\u001b[0mselect_one\u001b[0m\u001b[1;33m(\u001b[0m\u001b[1;34m'table.info'\u001b[0m\u001b[1;33m)\u001b[0m\u001b[1;33m\u001b[0m\u001b[1;33m\u001b[0m\u001b[0m\n\u001b[1;32m----> 3\u001b[1;33m \u001b[0maddr\u001b[0m\u001b[1;33m.\u001b[0m\u001b[0mfind\u001b[0m\u001b[1;33m(\u001b[0m\u001b[1;34m'td'\u001b[0m\u001b[1;33m)\u001b[0m\u001b[1;33m\u001b[0m\u001b[1;33m\u001b[0m\u001b[0m\n\u001b[0m\u001b[0;32m      4\u001b[0m \u001b[0maddr\u001b[0m\u001b[1;33m\u001b[0m\u001b[1;33m\u001b[0m\u001b[0m\n",
      "\u001b[1;31mAttributeError\u001b[0m: 'NoneType' object has no attribute 'find'"
     ]
    }
   ],
   "source": [
    "# 주소\n",
    "addr = detail.select_one('table.info')\n",
    "addr.find('td')\n",
    "addr"
   ]
  },
  {
   "cell_type": "code",
   "execution_count": null,
   "metadata": {},
   "outputs": [],
   "source": []
  },
  {
   "cell_type": "code",
   "execution_count": null,
   "metadata": {},
   "outputs": [],
   "source": []
  }
 ]
}