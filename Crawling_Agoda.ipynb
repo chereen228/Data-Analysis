{
 "metadata": {
  "language_info": {
   "codemirror_mode": {
    "name": "ipython",
    "version": 3
   },
   "file_extension": ".py",
   "mimetype": "text/x-python",
   "name": "python",
   "nbconvert_exporter": "python",
   "pygments_lexer": "ipython3",
   "version": "3.8.5"
  },
  "orig_nbformat": 2,
  "kernelspec": {
   "name": "python385jvsc74a57bd054daef0dc01e033c2e8f5f3c9e10ede1654dd5d0f042d7f1d072181b13567fe3",
   "display_name": "Python 3.8.5 64-bit ('base': conda)"
  }
 },
 "nbformat": 4,
 "nbformat_minor": 2,
 "cells": [
  {
   "cell_type": "code",
   "execution_count": 2,
   "metadata": {},
   "outputs": [],
   "source": [
    "from selenium import webdriver\n",
    "import requests\n",
    "from selenium.webdriver import ActionChains as ac\n",
    "import pandas as pd\n",
    "import time\n",
    "from selenium.webdriver.support.select import Select"
   ]
  },
  {
   "cell_type": "code",
   "execution_count": 3,
   "metadata": {},
   "outputs": [],
   "source": [
    "# 크롬드라이버\n",
    "path = 'C:/Temp/chromedriver.exe'\n",
    "driver = webdriver.Chrome(path)"
   ]
  },
  {
   "cell_type": "code",
   "execution_count": 4,
   "metadata": {},
   "outputs": [],
   "source": [
    "# 페이지 로딩 대기 5초\n",
    "driver.implicitly_wait(5)\n",
    "\n",
    "# 페이지 가져오기 & 파싱(검색 결과 페이지)\n",
    "driver.get('https://www.agoda.com/ko-kr/search?guid=8567e0bf-30b5-4445-aace-c15f4a37ba1b&asq=kw7ycJuLx0pqYJtiutQIlpufa9Vwpz6XltTHq4n%2B9gNeVdXm8A0i72m15emY%2FhLANC0VuAUj4qA32h6NQa7SO%2F%2B3DIFiW8KE8jLBG3N8hGtzIiTBMJch7dCyXMpa6Pk4r6QDs48C6hOjLzuYUvlEgOm%2B3QacrQMDUE7JkJAfzu26b2DXIDuOEEqRACkwqPRNCQtCuz9xr3hLuPzNOMKmFw%3D%3D&city=14690&tick=637613783705&locale=ko-kr&ckuid=296f2a79-5a67-4061-82a6-3624d9b74ac8&prid=0&currency=KRW&correlationId=fa24cfeb-6386-48c2-a62e-885ddaf57abc&pageTypeId=7&realLanguageId=9&languageId=9&origin=KR&cid=1891463&tag=45b17d1d-e0b0-fe2a-ce90-5513829d856b&userId=296f2a79-5a67-4061-82a6-3624d9b74ac8&whitelabelid=1&loginLvl=0&storefrontId=3&currencyId=26&currencyCode=KRW&htmlLanguage=ko-kr&cultureInfoName=ko-kr&machineName=hk-crweb-2028&trafficGroupId=5&sessionId=2zabw2fotkk04sfqvgv23ud3&trafficSubGroupId=122&aid=82361&useFullPageLogin=true&cttp=4&isRealUser=true&mode=production&checkIn=2021-07-08&checkOut=2021-07-09&rooms=1&adults=2&children=0&priceCur=KRW&los=1&textToSearch=%EC%84%9C%EC%9A%B8&travellerType=1&familyMode=off&productType=-1&sort=reviewAll')"
   ]
  },
  {
   "cell_type": "code",
   "execution_count": 5,
   "metadata": {},
   "outputs": [
    {
     "output_type": "stream",
     "name": "stdout",
     "text": [
      "['https://www.agoda.com/ko-kr/jamsil-urban/hotel/seoul-kr.html?finalPriceView=1&isShowMobileAppPrice=false&cid=1891463&numberOfBedrooms=&familyMode=false&adults=2&children=0&rooms=1&maxRooms=0&checkIn=2021-07-8&isCalendarCallout=false&childAges=&numberOfGuest=0&missingChildAges=false&travellerType=1&showReviewSubmissionEntry=false&currencyCode=KRW&isFreeOccSearch=false&tag=45b17d1d-e0b0-fe2a-ce90-5513829d856b&los=1&searchrequestid=80208763-8356-473d-827e-5dc51f4f47d1', 'https://www.agoda.com/ko-kr/suyu-mai-my-hotels/hotel/seoul-kr.html?finalPriceView=1&isShowMobileAppPrice=false&cid=1891463&numberOfBedrooms=&familyMode=false&adults=2&children=0&rooms=1&maxRooms=0&checkIn=2021-07-8&isCalendarCallout=false&childAges=&numberOfGuest=0&missingChildAges=false&travellerType=1&showReviewSubmissionEntry=false&currencyCode=KRW&isFreeOccSearch=false&tag=45b17d1d-e0b0-fe2a-ce90-5513829d856b&los=1&searchrequestid=80208763-8356-473d-827e-5dc51f4f47d1', 'https://www.agoda.com/ko-kr/daol-guesthouse/hotel/seoul-kr.html?finalPriceView=1&isShowMobileAppPrice=false&cid=1891463&numberOfBedrooms=&familyMode=false&adults=2&children=0&rooms=1&maxRooms=0&checkIn=2021-07-8&isCalendarCallout=false&childAges=&numberOfGuest=0&missingChildAges=false&travellerType=1&showReviewSubmissionEntry=false&currencyCode=KRW&isFreeOccSearch=false&tag=45b17d1d-e0b0-fe2a-ce90-5513829d856b&tspTypes=1&los=1&searchrequestid=80208763-8356-473d-827e-5dc51f4f47d1', 'https://www.agoda.com/ko-kr/signiel-seoul/hotel/seoul-kr.html?finalPriceView=1&isShowMobileAppPrice=false&cid=1891463&numberOfBedrooms=&familyMode=false&adults=2&children=0&rooms=1&maxRooms=0&checkIn=2021-07-8&isCalendarCallout=false&childAges=&numberOfGuest=0&missingChildAges=false&travellerType=1&showReviewSubmissionEntry=false&currencyCode=KRW&isFreeOccSearch=false&tag=45b17d1d-e0b0-fe2a-ce90-5513829d856b&tspTypes=15,8&los=1&searchrequestid=80208763-8356-473d-827e-5dc51f4f47d1', 'https://www.agoda.com/ko-kr/lotte-hotel-seoul-executive-tower/hotel/seoul-kr.html?finalPriceView=1&isShowMobileAppPrice=false&cid=1891463&numberOfBedrooms=&familyMode=false&adults=2&children=0&rooms=1&maxRooms=0&checkIn=2021-07-8&isCalendarCallout=false&childAges=&numberOfGuest=0&missingChildAges=false&travellerType=1&showReviewSubmissionEntry=false&currencyCode=KRW&isFreeOccSearch=false&tag=45b17d1d-e0b0-fe2a-ce90-5513829d856b&tspTypes=5&los=1&searchrequestid=80208763-8356-473d-827e-5dc51f4f47d1', 'https://www.agoda.com/ko-kr/suyu-m-h10586519/hotel/seoul-kr.html?finalPriceView=1&isShowMobileAppPrice=false&cid=1891463&numberOfBedrooms=&familyMode=false&adults=2&children=0&rooms=1&maxRooms=0&checkIn=2021-07-8&isCalendarCallout=false&childAges=&numberOfGuest=0&missingChildAges=false&travellerType=1&showReviewSubmissionEntry=false&currencyCode=KRW&isFreeOccSearch=false&tag=45b17d1d-e0b0-fe2a-ce90-5513829d856b&los=1&searchrequestid=80208763-8356-473d-827e-5dc51f4f47d1', 'https://www.agoda.com/ko-kr/suyu-solid-hotel-h10584246/hotel/seoul-kr.html?finalPriceView=1&isShowMobileAppPrice=false&cid=1891463&numberOfBedrooms=&familyMode=false&adults=2&children=0&rooms=1&maxRooms=0&checkIn=2021-07-8&isCalendarCallout=false&childAges=&numberOfGuest=0&missingChildAges=false&travellerType=1&showReviewSubmissionEntry=false&currencyCode=KRW&isFreeOccSearch=false&tag=45b17d1d-e0b0-fe2a-ce90-5513829d856b&los=1&searchrequestid=80208763-8356-473d-827e-5dc51f4f47d1', 'https://www.agoda.com/ko-kr/hostel-haru/hotel/seoul-kr.html?finalPriceView=1&isShowMobileAppPrice=false&cid=1891463&numberOfBedrooms=&familyMode=false&adults=2&children=0&rooms=1&maxRooms=0&checkIn=2021-07-8&isCalendarCallout=false&childAges=&numberOfGuest=0&missingChildAges=false&travellerType=1&showReviewSubmissionEntry=false&currencyCode=KRW&isFreeOccSearch=false&tag=45b17d1d-e0b0-fe2a-ce90-5513829d856b&tspTypes=2&los=1&searchrequestid=80208763-8356-473d-827e-5dc51f4f47d1', 'https://www.agoda.com/ko-kr/doksan-si-hotel-h10584991/hotel/seoul-kr.html?finalPriceView=1&isShowMobileAppPrice=false&cid=1891463&numberOfBedrooms=&familyMode=false&adults=2&children=0&rooms=1&maxRooms=0&checkIn=2021-07-8&isCalendarCallout=false&childAges=&numberOfGuest=0&missingChildAges=false&travellerType=1&showReviewSubmissionEntry=false&currencyCode=KRW&isFreeOccSearch=false&tag=45b17d1d-e0b0-fe2a-ce90-5513829d856b&los=1&searchrequestid=80208763-8356-473d-827e-5dc51f4f47d1', 'https://www.agoda.com/ko-kr/gil-dong-couple/hotel/seoul-kr.html?finalPriceView=1&isShowMobileAppPrice=false&cid=1891463&numberOfBedrooms=&familyMode=false&adults=2&children=0&rooms=1&maxRooms=0&checkIn=2021-07-8&isCalendarCallout=false&childAges=&numberOfGuest=0&missingChildAges=false&travellerType=1&showReviewSubmissionEntry=false&currencyCode=KRW&isFreeOccSearch=false&tag=45b17d1d-e0b0-fe2a-ce90-5513829d856b&tspTypes=2&los=1&searchrequestid=80208763-8356-473d-827e-5dc51f4f47d1']\n"
     ]
    }
   ],
   "source": [
    "links = []\n",
    "\n",
    "for i in range(110):\n",
    "    try:\n",
    "        a = driver.find_element_by_css_selector(f\"#contentContainer > div:nth-child(4) > ol > li:nth-child({i}) > div > a\")\n",
    "        link = a.get_attribute('href')\n",
    "        links.append(link)\n",
    "    except:\n",
    "        pass\n",
    "\n",
    "print(links)"
   ]
  },
  {
   "cell_type": "code",
   "execution_count": 6,
   "metadata": {},
   "outputs": [
    {
     "output_type": "execute_result",
     "data": {
      "text/plain": [
       "10"
      ]
     },
     "metadata": {},
     "execution_count": 6
    }
   ],
   "source": [
    "len(links)"
   ]
  },
  {
   "cell_type": "code",
   "execution_count": 7,
   "metadata": {},
   "outputs": [
    {
     "output_type": "stream",
     "name": "stdout",
     "text": [
      "['2438', '2278', '254', '641', '100', '4927', '1901', '489', '902', '851']\n"
     ]
    }
   ],
   "source": [
    "# 총 리뷰 개수 찾기: for문을 몇 번 돌릴지 구하기위함 (버튼을 몇 번 눌러야 할지) \n",
    "\n",
    "#driver = webdriver.Chrome('./chromedriver')\n",
    "driver = webdriver.Chrome(path)\n",
    "review_sum_list=[]\n",
    "options = webdriver.ChromeOptions()\n",
    "options.add_argument(\"headless\")\n",
    "\n",
    "for i in links:\n",
    "    driver.get(i)\n",
    "    time.sleep(5)\n",
    "\n",
    "    review_sum = driver.find_element_by_css_selector(\"#reviewFilterSection > div.Review__SummaryContainer > span\").text\n",
    "    try : \n",
    "        review_sum = review_sum.split(' ')[3][:-1]\n",
    "    except:\n",
    "        review_sum = review_sum.split(' ')[1][:-1] \n",
    "    review_sum_list.append(review_sum)\n",
    "\n",
    "print(review_sum_list)"
   ]
  },
  {
   "cell_type": "code",
   "execution_count": 17,
   "metadata": {},
   "outputs": [
    {
     "output_type": "execute_result",
     "data": {
      "text/plain": [
       "[122, 114, 13, 33, 6, 247, 96, 25, 46, 43]"
      ]
     },
     "metadata": {},
     "execution_count": 17
    }
   ],
   "source": [
    "pages_list = []\n",
    "\n",
    "for num in review_sum_list:\n",
    "    pages = int(num)//20 + 1\n",
    "    pages_list.append(pages)\n",
    "\n",
    "pages_list"
   ]
  },
  {
   "cell_type": "code",
   "execution_count": null,
   "metadata": {},
   "outputs": [],
   "source": [
    "#호텔명\n",
    "hotel = soup.select('.HeaderCerebrum__Name')\n",
    "hotel"
   ]
  },
  {
   "cell_type": "code",
   "execution_count": null,
   "metadata": {},
   "outputs": [],
   "source": [
    "#호텔명\n",
    "reviews['title'] = hotel[0].text"
   ]
  },
  {
   "cell_type": "code",
   "execution_count": null,
   "metadata": {},
   "outputs": [],
   "source": [
    "reviews"
   ]
  },
  {
   "cell_type": "code",
   "execution_count": null,
   "metadata": {},
   "outputs": [],
   "source": [
    "for k in range(1,pages+1):\n",
    "    html = driver.page_source\n",
    "    soup = bs(html, 'html.parser')\n",
    "    \n",
    "    # 리뷰 영역까지 스크롤\n",
    "    scroll_point = driver.find_element_by_id('review-0')\n",
    "    ac(driver).move_to_element(scroll_point).perform()\n",
    "    \n",
    "    # 다시 파싱\n",
    "    html = driver.page_source\n",
    "    soup = bs(html, 'html.parser')\n",
    "    \n",
    "    for k in range(0,9):\n",
    "        date_ = soup.select(f'#review-{k} > div.Review-comment-right > div.Review-comment-bubble > div.Review-statusBar > div > div > span')\n",
    "     \n",
    "        year = date_[0].text.split(\" \")[1][:-1]\n",
    "        if int(year) >= 2018:\n",
    "            score = soup.select(f'#review-{k} > div.Review-comment-left > div > div.Review-comment-leftHeader > div.Review-comment-leftScore')\n",
    "            text = soup.select(f'#review-{k} > div.Review-comment-right > div.Review-comment-bubble > div.Review-comment-body > p.Review-comment-bodyText')\n",
    "            \n",
    "            \n",
    "            reviews['score'].append(score[0].text)\n",
    "            reviews['text'].append(text[0].text)\n",
    "        else:\n",
    "            break\n",
    "\n",
    "    # 버튼누르기\n",
    "    button = driver.find_element_by_xpath('//*[@id=\"reviewSection\"]/div[4]/div/span[3]')\n",
    "    ac(driver).move_to_element(button).click().perform()\n",
    "    time.sleep(2)"
   ]
  },
  {
   "cell_type": "code",
   "execution_count": 9,
   "metadata": {},
   "outputs": [],
   "source": [
    "# 데이터 프레임으로 만들 딕셔너리 정의\n",
    "reviews = {'name':[], 'text':[]}"
   ]
  },
  {
   "cell_type": "code",
   "execution_count": null,
   "metadata": {},
   "outputs": [],
   "source": []
  },
  {
   "cell_type": "code",
   "execution_count": null,
   "metadata": {},
   "outputs": [],
   "source": [
    "# 리뷰 긁어오기\n",
    "texts=[]\n",
    "\n",
    "for i in links:\n",
    "    driver.get(i)\n",
    "    time.sleep(5)\n",
    "\n",
    "    for k in pages_list:\n",
    "        text = driver.find_element_by_css_selector('#review-0 > div.Review-comment-right > div.Review-comment-bubble > div.Review-comment-body > p.Review-comment-bodyText').text\n",
    "        texts.append(text)\n",
    "        "
   ]
  },
  {
   "cell_type": "code",
   "execution_count": null,
   "metadata": {},
   "outputs": [],
   "source": []
  }
 ]
}