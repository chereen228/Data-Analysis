{
 "metadata": {
  "language_info": {
   "codemirror_mode": {
    "name": "ipython",
    "version": 3
   },
   "file_extension": ".py",
   "mimetype": "text/x-python",
   "name": "python",
   "nbconvert_exporter": "python",
   "pygments_lexer": "ipython3",
   "version": "3.8.5"
  },
  "orig_nbformat": 2,
  "kernelspec": {
   "name": "python385jvsc74a57bd054daef0dc01e033c2e8f5f3c9e10ede1654dd5d0f042d7f1d072181b13567fe3",
   "display_name": "Python 3.8.5 64-bit ('base': conda)"
  }
 },
 "nbformat": 4,
 "nbformat_minor": 2,
 "cells": [
  {
   "cell_type": "code",
   "execution_count": 1,
   "metadata": {},
   "outputs": [],
   "source": [
    "import requests\n",
    "from urllib.parse import quote\n",
    "import pandas as pd"
   ]
  },
  {
   "cell_type": "code",
   "execution_count": 3,
   "metadata": {},
   "outputs": [],
   "source": [
    "with open('kakaoapikey_home.txt', mode='r') as key_file:\n",
    "    kakao_key = key_file.read()\n",
    "local_url = 'https://dapi.kakao.com/v2/local/search/address.json'"
   ]
  },
  {
   "cell_type": "code",
   "execution_count": 9,
   "metadata": {},
   "outputs": [
    {
     "output_type": "execute_result",
     "data": {
      "text/plain": [
       "    행정구  법정동   업종           이름                      도로명전체주소\n",
       "0   은평구  구산동  보건소       구산보건지소  서울특별시 은평구 연서로13길 29-7 (구산동)\n",
       "1   은평구  응암동  보건소       응암보건지소      서울특별시 은평구 가좌로 195 (응암동)\n",
       "2   양천구  신정동  보건소       양천구보건소     서울특별시 양천구 목동서로 339 (신정동)\n",
       "3   동작구  상도동  보건소  서울특별시동작구보건소  서울특별시 동작구 장승배기로10길 42 (상도동)\n",
       "4  동대문구  용두동  보건소      동대문구보건소    서울특별시 동대문구 천호대로 145 (용두동)"
      ],
      "text/html": "<div>\n<style scoped>\n    .dataframe tbody tr th:only-of-type {\n        vertical-align: middle;\n    }\n\n    .dataframe tbody tr th {\n        vertical-align: top;\n    }\n\n    .dataframe thead th {\n        text-align: right;\n    }\n</style>\n<table border=\"1\" class=\"dataframe\">\n  <thead>\n    <tr style=\"text-align: right;\">\n      <th></th>\n      <th>행정구</th>\n      <th>법정동</th>\n      <th>업종</th>\n      <th>이름</th>\n      <th>도로명전체주소</th>\n    </tr>\n  </thead>\n  <tbody>\n    <tr>\n      <th>0</th>\n      <td>은평구</td>\n      <td>구산동</td>\n      <td>보건소</td>\n      <td>구산보건지소</td>\n      <td>서울특별시 은평구 연서로13길 29-7 (구산동)</td>\n    </tr>\n    <tr>\n      <th>1</th>\n      <td>은평구</td>\n      <td>응암동</td>\n      <td>보건소</td>\n      <td>응암보건지소</td>\n      <td>서울특별시 은평구 가좌로 195 (응암동)</td>\n    </tr>\n    <tr>\n      <th>2</th>\n      <td>양천구</td>\n      <td>신정동</td>\n      <td>보건소</td>\n      <td>양천구보건소</td>\n      <td>서울특별시 양천구 목동서로 339 (신정동)</td>\n    </tr>\n    <tr>\n      <th>3</th>\n      <td>동작구</td>\n      <td>상도동</td>\n      <td>보건소</td>\n      <td>서울특별시동작구보건소</td>\n      <td>서울특별시 동작구 장승배기로10길 42 (상도동)</td>\n    </tr>\n    <tr>\n      <th>4</th>\n      <td>동대문구</td>\n      <td>용두동</td>\n      <td>보건소</td>\n      <td>동대문구보건소</td>\n      <td>서울특별시 동대문구 천호대로 145 (용두동)</td>\n    </tr>\n  </tbody>\n</table>\n</div>"
     },
     "metadata": {},
     "execution_count": 9
    }
   ],
   "source": [
    "hc_center = pd.read_csv('healthcenter.txt')\n",
    "hc_center.head()"
   ]
  },
  {
   "cell_type": "code",
   "execution_count": 10,
   "metadata": {},
   "outputs": [],
   "source": [
    "# 위도, 경도 구하기\n",
    "lat_list, lng_list = [], []\n",
    "for i in hc_center.index:\n",
    "    try:\n",
    "        url = f\"{local_url}?query={quote(hc_center['도로명전체주소'][i])}\"\n",
    "        result = requests.get(url,\n",
    "                headers={\"Authorization\": \"KakaoAK \"+kakao_key}).json()\n",
    "        lat = float(result['documents'][0]['y'])\n",
    "        lng = float(result['documents'][0]['x'])\n",
    "        lat_list.append(lat)\n",
    "        lng_list.append(lng)\n",
    "    except:\n",
    "        print(hc_center.이름[i], hc_center.도로명전체주소[i])"
   ]
  },
  {
   "cell_type": "code",
   "execution_count": 13,
   "metadata": {},
   "outputs": [
    {
     "output_type": "execute_result",
     "data": {
      "text/plain": [
       "    행정구  법정동   업종           이름                      도로명전체주소        lat  \\\n",
       "0   은평구  구산동  보건소       구산보건지소  서울특별시 은평구 연서로13길 29-7 (구산동)  37.609737   \n",
       "1   은평구  응암동  보건소       응암보건지소      서울특별시 은평구 가좌로 195 (응암동)  37.588035   \n",
       "2   양천구  신정동  보건소       양천구보건소     서울특별시 양천구 목동서로 339 (신정동)  37.517706   \n",
       "3   동작구  상도동  보건소  서울특별시동작구보건소  서울특별시 동작구 장승배기로10길 42 (상도동)  37.504446   \n",
       "4  동대문구  용두동  보건소      동대문구보건소    서울특별시 동대문구 천호대로 145 (용두동)  37.574392   \n",
       "\n",
       "          lng  \n",
       "0  126.912784  \n",
       "1  126.919508  \n",
       "2  126.865739  \n",
       "3  126.941088  \n",
       "4  127.039897  "
      ],
      "text/html": "<div>\n<style scoped>\n    .dataframe tbody tr th:only-of-type {\n        vertical-align: middle;\n    }\n\n    .dataframe tbody tr th {\n        vertical-align: top;\n    }\n\n    .dataframe thead th {\n        text-align: right;\n    }\n</style>\n<table border=\"1\" class=\"dataframe\">\n  <thead>\n    <tr style=\"text-align: right;\">\n      <th></th>\n      <th>행정구</th>\n      <th>법정동</th>\n      <th>업종</th>\n      <th>이름</th>\n      <th>도로명전체주소</th>\n      <th>lat</th>\n      <th>lng</th>\n    </tr>\n  </thead>\n  <tbody>\n    <tr>\n      <th>0</th>\n      <td>은평구</td>\n      <td>구산동</td>\n      <td>보건소</td>\n      <td>구산보건지소</td>\n      <td>서울특별시 은평구 연서로13길 29-7 (구산동)</td>\n      <td>37.609737</td>\n      <td>126.912784</td>\n    </tr>\n    <tr>\n      <th>1</th>\n      <td>은평구</td>\n      <td>응암동</td>\n      <td>보건소</td>\n      <td>응암보건지소</td>\n      <td>서울특별시 은평구 가좌로 195 (응암동)</td>\n      <td>37.588035</td>\n      <td>126.919508</td>\n    </tr>\n    <tr>\n      <th>2</th>\n      <td>양천구</td>\n      <td>신정동</td>\n      <td>보건소</td>\n      <td>양천구보건소</td>\n      <td>서울특별시 양천구 목동서로 339 (신정동)</td>\n      <td>37.517706</td>\n      <td>126.865739</td>\n    </tr>\n    <tr>\n      <th>3</th>\n      <td>동작구</td>\n      <td>상도동</td>\n      <td>보건소</td>\n      <td>서울특별시동작구보건소</td>\n      <td>서울특별시 동작구 장승배기로10길 42 (상도동)</td>\n      <td>37.504446</td>\n      <td>126.941088</td>\n    </tr>\n    <tr>\n      <th>4</th>\n      <td>동대문구</td>\n      <td>용두동</td>\n      <td>보건소</td>\n      <td>동대문구보건소</td>\n      <td>서울특별시 동대문구 천호대로 145 (용두동)</td>\n      <td>37.574392</td>\n      <td>127.039897</td>\n    </tr>\n  </tbody>\n</table>\n</div>"
     },
     "metadata": {},
     "execution_count": 13
    }
   ],
   "source": [
    "hc_center['lat'], hc_center['lng'] = lat_list, lng_list\n",
    "hc_center.head()"
   ]
  },
  {
   "cell_type": "code",
   "execution_count": 15,
   "metadata": {},
   "outputs": [],
   "source": [
    "hc_center.to_csv('보건소.csv', index=False, encoding='utf8')"
   ]
  }
 ]
}