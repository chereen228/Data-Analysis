{
 "metadata": {
  "language_info": {
   "codemirror_mode": {
    "name": "ipython",
    "version": 3
   },
   "file_extension": ".py",
   "mimetype": "text/x-python",
   "name": "python",
   "nbconvert_exporter": "python",
   "pygments_lexer": "ipython3",
   "version": "3.8.5"
  },
  "orig_nbformat": 2,
  "kernelspec": {
   "name": "python385jvsc74a57bd054daef0dc01e033c2e8f5f3c9e10ede1654dd5d0f042d7f1d072181b13567fe3",
   "display_name": "Python 3.8.5 64-bit ('base': conda)"
  }
 },
 "nbformat": 4,
 "nbformat_minor": 2,
 "cells": [
  {
   "source": [
    "# 복지시설 전처리"
   ],
   "cell_type": "markdown",
   "metadata": {}
  },
  {
   "cell_type": "code",
   "execution_count": 1,
   "metadata": {},
   "outputs": [],
   "source": [
    "import requests\n",
    "from urllib.parse import quote\n",
    "import pandas as pd"
   ]
  },
  {
   "cell_type": "code",
   "execution_count": 2,
   "metadata": {},
   "outputs": [
    {
     "output_type": "execute_result",
     "data": {
      "text/plain": [
       "'6113569a0e03c38e769158c847601c0e'"
      ]
     },
     "metadata": {},
     "execution_count": 2
    }
   ],
   "source": [
    "with open('kakaoapikey_home.txt', mode='r') as key_file:\n",
    "    kakao_key = key_file.read()\n",
    "kakao_key"
   ]
  },
  {
   "cell_type": "code",
   "execution_count": 3,
   "metadata": {},
   "outputs": [],
   "source": [
    "local_url = 'https://dapi.kakao.com/v2/local/search/address.json'"
   ]
  },
  {
   "cell_type": "code",
   "execution_count": 4,
   "metadata": {},
   "outputs": [
    {
     "output_type": "execute_result",
     "data": {
      "text/plain": [
       "      행정구  법정동        업종              이름                            도로명주소  \\\n",
       "0     중랑구  신내동  노인의료복지시설    서울꽃동네신내노인요양원               서울특별시 중랑구 신내로 194    \n",
       "1     종로구  구기동  노인의료복지시설         청운노인요양원           서울특별시 종로구 비봉길 76 (구기동)   \n",
       "2     강서구  화곡동  노인의료복지시설         천사노인요양원          서울특별시 강서구 강서로45다길 30-22   \n",
       "3     금천구  시흥동  노인의료복지시설     노인요양센터 인영실버             서울특별시 금천구 금하로 596-0    \n",
       "4     관악구  봉천동  노인의료복지시설        동명노인복지센타        서울특별시 관악구 봉천로23라길 15(봉천동)   \n",
       "..    ...  ...       ...             ...                              ...   \n",
       "516  영등포구  신길동  노인의료복지시설           가족사랑2       서울특별시 영등포구 도신로204 3층 (신길동)   \n",
       "517   강서구  방화동  노인의료복지시설         봄날강서요양원      서울특별시 강서구 양천로11길 15-11(방화동)   \n",
       "518   강서구  화곡동  노인의료복지시설        맑은공동생활가정        서울특별시 강서구 화곡로225 6층 (화곡동)   \n",
       "519   도봉구  방학동  노인의료복지시설  수노인요양공동생활가정1호점  서울특별시 도봉구 방학1동  도봉구청80 5층 (방학동)   \n",
       "520   강동구   길동  노인의료복지시설           은혜요양원  서울특별시 강동구 양재대로124길 41 (길동)   2층   \n",
       "\n",
       "    Unnamed: 5 Unnamed: 6  \n",
       "0          NaN        NaN  \n",
       "1          NaN        NaN  \n",
       "2          NaN        NaN  \n",
       "3          NaN        NaN  \n",
       "4          NaN        NaN  \n",
       "..         ...        ...  \n",
       "516        NaN        NaN  \n",
       "517        NaN        NaN  \n",
       "518        NaN        NaN  \n",
       "519        NaN        NaN  \n",
       "520        NaN        NaN  \n",
       "\n",
       "[521 rows x 7 columns]"
      ],
      "text/html": "<div>\n<style scoped>\n    .dataframe tbody tr th:only-of-type {\n        vertical-align: middle;\n    }\n\n    .dataframe tbody tr th {\n        vertical-align: top;\n    }\n\n    .dataframe thead th {\n        text-align: right;\n    }\n</style>\n<table border=\"1\" class=\"dataframe\">\n  <thead>\n    <tr style=\"text-align: right;\">\n      <th></th>\n      <th>행정구</th>\n      <th>법정동</th>\n      <th>업종</th>\n      <th>이름</th>\n      <th>도로명주소</th>\n      <th>Unnamed: 5</th>\n      <th>Unnamed: 6</th>\n    </tr>\n  </thead>\n  <tbody>\n    <tr>\n      <th>0</th>\n      <td>중랑구</td>\n      <td>신내동</td>\n      <td>노인의료복지시설</td>\n      <td>서울꽃동네신내노인요양원</td>\n      <td>서울특별시 중랑구 신내로 194</td>\n      <td>NaN</td>\n      <td>NaN</td>\n    </tr>\n    <tr>\n      <th>1</th>\n      <td>종로구</td>\n      <td>구기동</td>\n      <td>노인의료복지시설</td>\n      <td>청운노인요양원</td>\n      <td>서울특별시 종로구 비봉길 76 (구기동)</td>\n      <td>NaN</td>\n      <td>NaN</td>\n    </tr>\n    <tr>\n      <th>2</th>\n      <td>강서구</td>\n      <td>화곡동</td>\n      <td>노인의료복지시설</td>\n      <td>천사노인요양원</td>\n      <td>서울특별시 강서구 강서로45다길 30-22</td>\n      <td>NaN</td>\n      <td>NaN</td>\n    </tr>\n    <tr>\n      <th>3</th>\n      <td>금천구</td>\n      <td>시흥동</td>\n      <td>노인의료복지시설</td>\n      <td>노인요양센터 인영실버</td>\n      <td>서울특별시 금천구 금하로 596-0</td>\n      <td>NaN</td>\n      <td>NaN</td>\n    </tr>\n    <tr>\n      <th>4</th>\n      <td>관악구</td>\n      <td>봉천동</td>\n      <td>노인의료복지시설</td>\n      <td>동명노인복지센타</td>\n      <td>서울특별시 관악구 봉천로23라길 15(봉천동)</td>\n      <td>NaN</td>\n      <td>NaN</td>\n    </tr>\n    <tr>\n      <th>...</th>\n      <td>...</td>\n      <td>...</td>\n      <td>...</td>\n      <td>...</td>\n      <td>...</td>\n      <td>...</td>\n      <td>...</td>\n    </tr>\n    <tr>\n      <th>516</th>\n      <td>영등포구</td>\n      <td>신길동</td>\n      <td>노인의료복지시설</td>\n      <td>가족사랑2</td>\n      <td>서울특별시 영등포구 도신로204 3층 (신길동)</td>\n      <td>NaN</td>\n      <td>NaN</td>\n    </tr>\n    <tr>\n      <th>517</th>\n      <td>강서구</td>\n      <td>방화동</td>\n      <td>노인의료복지시설</td>\n      <td>봄날강서요양원</td>\n      <td>서울특별시 강서구 양천로11길 15-11(방화동)</td>\n      <td>NaN</td>\n      <td>NaN</td>\n    </tr>\n    <tr>\n      <th>518</th>\n      <td>강서구</td>\n      <td>화곡동</td>\n      <td>노인의료복지시설</td>\n      <td>맑은공동생활가정</td>\n      <td>서울특별시 강서구 화곡로225 6층 (화곡동)</td>\n      <td>NaN</td>\n      <td>NaN</td>\n    </tr>\n    <tr>\n      <th>519</th>\n      <td>도봉구</td>\n      <td>방학동</td>\n      <td>노인의료복지시설</td>\n      <td>수노인요양공동생활가정1호점</td>\n      <td>서울특별시 도봉구 방학1동  도봉구청80 5층 (방학동)</td>\n      <td>NaN</td>\n      <td>NaN</td>\n    </tr>\n    <tr>\n      <th>520</th>\n      <td>강동구</td>\n      <td>길동</td>\n      <td>노인의료복지시설</td>\n      <td>은혜요양원</td>\n      <td>서울특별시 강동구 양재대로124길 41 (길동)   2층</td>\n      <td>NaN</td>\n      <td>NaN</td>\n    </tr>\n  </tbody>\n</table>\n<p>521 rows × 7 columns</p>\n</div>"
     },
     "metadata": {},
     "execution_count": 4
    }
   ],
   "source": [
    "df = pd.read_csv('silver_welfare1.txt')\n",
    "df"
   ]
  },
  {
   "cell_type": "code",
   "execution_count": 5,
   "metadata": {},
   "outputs": [
    {
     "output_type": "execute_result",
     "data": {
      "text/plain": [
       "   행정구  법정동        업종            이름                      도로명주소\n",
       "0  중랑구  신내동  노인의료복지시설  서울꽃동네신내노인요양원         서울특별시 중랑구 신내로 194 \n",
       "1  종로구  구기동  노인의료복지시설       청운노인요양원     서울특별시 종로구 비봉길 76 (구기동)\n",
       "2  강서구  화곡동  노인의료복지시설       천사노인요양원    서울특별시 강서구 강서로45다길 30-22\n",
       "3  금천구  시흥동  노인의료복지시설   노인요양센터 인영실버       서울특별시 금천구 금하로 596-0 \n",
       "4  관악구  봉천동  노인의료복지시설      동명노인복지센타  서울특별시 관악구 봉천로23라길 15(봉천동)"
      ],
      "text/html": "<div>\n<style scoped>\n    .dataframe tbody tr th:only-of-type {\n        vertical-align: middle;\n    }\n\n    .dataframe tbody tr th {\n        vertical-align: top;\n    }\n\n    .dataframe thead th {\n        text-align: right;\n    }\n</style>\n<table border=\"1\" class=\"dataframe\">\n  <thead>\n    <tr style=\"text-align: right;\">\n      <th></th>\n      <th>행정구</th>\n      <th>법정동</th>\n      <th>업종</th>\n      <th>이름</th>\n      <th>도로명주소</th>\n    </tr>\n  </thead>\n  <tbody>\n    <tr>\n      <th>0</th>\n      <td>중랑구</td>\n      <td>신내동</td>\n      <td>노인의료복지시설</td>\n      <td>서울꽃동네신내노인요양원</td>\n      <td>서울특별시 중랑구 신내로 194</td>\n    </tr>\n    <tr>\n      <th>1</th>\n      <td>종로구</td>\n      <td>구기동</td>\n      <td>노인의료복지시설</td>\n      <td>청운노인요양원</td>\n      <td>서울특별시 종로구 비봉길 76 (구기동)</td>\n    </tr>\n    <tr>\n      <th>2</th>\n      <td>강서구</td>\n      <td>화곡동</td>\n      <td>노인의료복지시설</td>\n      <td>천사노인요양원</td>\n      <td>서울특별시 강서구 강서로45다길 30-22</td>\n    </tr>\n    <tr>\n      <th>3</th>\n      <td>금천구</td>\n      <td>시흥동</td>\n      <td>노인의료복지시설</td>\n      <td>노인요양센터 인영실버</td>\n      <td>서울특별시 금천구 금하로 596-0</td>\n    </tr>\n    <tr>\n      <th>4</th>\n      <td>관악구</td>\n      <td>봉천동</td>\n      <td>노인의료복지시설</td>\n      <td>동명노인복지센타</td>\n      <td>서울특별시 관악구 봉천로23라길 15(봉천동)</td>\n    </tr>\n  </tbody>\n</table>\n</div>"
     },
     "metadata": {},
     "execution_count": 5
    }
   ],
   "source": [
    "df_silver = df[['행정구', '법정동', '업종', '이름', '도로명주소']]\n",
    "df_silver.head()"
   ]
  },
  {
   "cell_type": "code",
   "execution_count": 6,
   "metadata": {},
   "outputs": [
    {
     "output_type": "stream",
     "name": "stdout",
     "text": [
      "미성요양원 서울특별시 관악구 난곡로63가길 421.3층 (신림동)\n",
      "행복요양원 서울특별시 구로구 경인로23길 87층 (오류동)(오류동)\n",
      "보라매요양원3호점 서울특별시 동작구 보라매로 88-088 (신대방동)\n",
      "선화요양원 서울특별시 강서구 등촌로 1833층 (등촌동)\n",
      "보문요양원 서울특별시 성북구 인촌로7길 322~5층 (안암동1가)\n",
      "한사랑실버센터2호점 서울특별시 강동구 양재대로 1494 602호\n",
      "수실버간호센터 서울특별시 송파구 성내천로 2123층\n",
      "은빛노인요양공동생활가정4 서울특별시 송파구 거마로 994층\n",
      "실버밸리노인요양공동생활가정 서울특별시 광진구 자양로 652층 (자양동)\n",
      "사회복지법인 진각복지재단 진각홈케어 성북센터 서울특별시 성북구 화랑로 215층 (하월곡동)\n",
      "늘푸른요양원 서울특별시 성북구 장월로1길 604층 (상월곡동)\n",
      "참빛요양원 서울특별시 도봉구 도봉로 6399층 (쌍문동)\n",
      "보라매요양원2호점 서울특별시 동작구 보라매로 88-088 (신대방동)\n",
      "보라매요양원1호점 서울특별시 동작구 보라매로 88-088 (신대방동)\n",
      "가온요양원2 서울특별시 강북구 한천로 10755층 (수유동)\n",
      "가온요양원1 서울특별시 강북구 한천로 10753층 (수유동)\n",
      "가락사랑요양원 서울특별시 송파구 오금로36길 573층 (가락동)\n",
      "사랑나눔요양원2 서울특별시 강북구 도봉로 2434층 (미아동)\n",
      "은평요양원 서울특별시 은평구 진흥로 4734층 (역촌동)\n",
      "'(협)노인돌봄은평요양원 서울특별시 은평구 가좌로 3063층 (신사동)\n",
      "성동실버케어요양원 서울특별시 광진구 뚝섬로 6134층 (자양동)\n",
      "사랑재활요양원2호점 서울특별시 도봉구 덕릉로59아길 54-0 (창동)54 3층층 (창동 이순빌딩)\n",
      "사랑방요양원 서울특별시 도봉구 도봉로 727-1 (방학동)727-1 2층 (방학동)\n",
      "구로 미가 요양원 서울특별시 구로구 천왕로 366층 (천왕동)\n",
      "'참좋은요양원 서울특별시 은평구 가좌로 3062층 (신사동)\n",
      "햇살요양원 서울특별시 강서구 공항대로41길 34-0 (등촌동)34 (등촌동)\n",
      "효드림요양원 서울특별시 서대문구 응암로 62-0 (북가좌동)62 4~7층 (북가좌동)\n",
      "은빛요양원 II 서울특별시 관악구 신림로 134-0 (신림동)134 5층 (신림동 오성빌딩)\n",
      "닥터참사랑요양원 서울특별시 용산구 원효로 155 3~5층 (원효로2가)\n",
      "다애요양원 서울특별시 성북구 성북로4길 52 한진아파트스포츠센터동 지하2층 53055306호 (돈암동)\n",
      "사랑과섬김요양원 서울특별시 노원구 한글비석로 4225층 (상계동)\n",
      "은나무요양원 서울특별시 도봉구 도봉로180나길 48-0 (도봉동)46 6층 (도봉동)\n",
      "선한노인전문요양원 서울특별시 도봉구 덕릉로62길 52-6 (창동)52-6 (창동)\n",
      "행복한노인요양원3 서울특별시 강북구 덕릉로 46 2 4층 (수유동 신우빌딩)\n",
      "강북요양원 서울특별시 도봉구 도봉로 669-0 (방학동)669 5층 501호 (방학동 이정빌딩)\n",
      "경동노인요양원 서울특별시 동대문구 약령시로 122-5 4~6층 (제기동)\n",
      "러빙케어 서울특별시 노원구 상계로1길 54-4 207 307호 (상계동 상계동센트럴타워)\n",
      "정진요양원 서울특별시 성북구 서경로 110 2-5층 (정릉동 정진빌딩)\n",
      "나눔요양원 서울특별시 관악구 남부순환로 1468-0 (신림동)1468 4층 (신림동)\n",
      "강북효심요양원2 서울특별시 강북구 삼양로77가길 9 2지하1층 (수유동)\n",
      "우리엄마요양원 2호점 서울특별시 성북구 보문로123 4 2층 (보문동2가)\n",
      "워커힐케어센터1 서울특별시 광진구 아차산로 634 6 7층 (광장동 대오빌딩)\n",
      "서울실버케어노인요양원 서울특별시 노원구 한글비석로44길 312층3층 (상계동)\n",
      "효담요양원 서울특별시 양천구 오목로 624층 (신월동)\n",
      "벧엘의집 요양원2 서울특별시 관악구 미성동96 2층 (신림동 미성빌딩)\n",
      "서울숲재활요양원 서울특별시 성동구 뚝섬로 401-23층 (성수동2가)\n",
      "동그라미요양센터1호점 서울특별시 도봉구 쌍문동103 4층 (쌍문동 춘광빌딩)\n",
      "동부실버케어요양원 서울특별시 광진구 자양번영로 343층 (자양동)\n",
      "우리요양원 서울특별시 금천구 시흥대로 426-0426 영진빌딩 7층(독산동)\n",
      "동그라미요양센터2호점 서울특별시 도봉구 쌍문동103 3층 (쌍문동 춘광빌딩)\n",
      "면목요양원 서울특별시 중랑구 면목동61 3층 (면목동)\n",
      "다복공동생활가정 서울특별시 강서구 화곡로 225-0225 4층 (화곡동)\n",
      "늘편한요양원 서울특별시 강동구 천호1동318 3층 (천호동 성산빌딩)\n",
      "수노인요양공동생활가정1호점 서울특별시 도봉구 방학1동  도봉구청80 5층 (방학동)\n"
     ]
    }
   ],
   "source": [
    "# 위도, 경도 구하기\n",
    "lat_list, lng_list = [], []\n",
    "for i in df_silver.index:\n",
    "    try:\n",
    "        url = f\"{local_url}?query={quote(df_silver['도로명주소'][i])}\"\n",
    "        result = requests.get(url,\n",
    "                headers={\"Authorization\": \"KakaoAK \"+kakao_key}).json()\n",
    "        lat = float(result['documents'][0]['y'])\n",
    "        lng = float(result['documents'][0]['x'])\n",
    "        lat_list.append(lat)\n",
    "        lng_list.append(lng)\n",
    "    except:\n",
    "        print(df_silver.이름[i], df_silver.도로명주소[i])"
   ]
  },
  {
   "cell_type": "code",
   "execution_count": 13,
   "metadata": {},
   "outputs": [],
   "source": [
    "import warnings\n",
    "warnings.filterwarnings('ignore')"
   ]
  },
  {
   "cell_type": "code",
   "execution_count": 7,
   "metadata": {},
   "outputs": [
    {
     "output_type": "error",
     "ename": "ValueError",
     "evalue": "Length of values (467) does not match length of index (521)",
     "traceback": [
      "\u001b[1;31m---------------------------------------------------------------------------\u001b[0m",
      "\u001b[1;31mValueError\u001b[0m                                Traceback (most recent call last)",
      "\u001b[1;32m<ipython-input-7-b6a4f5441f6a>\u001b[0m in \u001b[0;36m<module>\u001b[1;34m\u001b[0m\n\u001b[1;32m----> 1\u001b[1;33m \u001b[0mdf_silver\u001b[0m\u001b[1;33m[\u001b[0m\u001b[1;34m'lat'\u001b[0m\u001b[1;33m]\u001b[0m\u001b[1;33m,\u001b[0m \u001b[0mdf_silver\u001b[0m\u001b[1;33m[\u001b[0m\u001b[1;34m'lng'\u001b[0m\u001b[1;33m]\u001b[0m \u001b[1;33m=\u001b[0m \u001b[0mlat_list\u001b[0m\u001b[1;33m,\u001b[0m \u001b[0mlng_list\u001b[0m\u001b[1;33m\u001b[0m\u001b[1;33m\u001b[0m\u001b[0m\n\u001b[0m\u001b[0;32m      2\u001b[0m \u001b[0mdf_silver\u001b[0m\u001b[1;33m.\u001b[0m\u001b[0mhead\u001b[0m\u001b[1;33m(\u001b[0m\u001b[1;33m)\u001b[0m\u001b[1;33m\u001b[0m\u001b[1;33m\u001b[0m\u001b[0m\n",
      "\u001b[1;32m~\\miniconda3\\lib\\site-packages\\pandas\\core\\frame.py\u001b[0m in \u001b[0;36m__setitem__\u001b[1;34m(self, key, value)\u001b[0m\n\u001b[0;32m   3161\u001b[0m         \u001b[1;32melse\u001b[0m\u001b[1;33m:\u001b[0m\u001b[1;33m\u001b[0m\u001b[1;33m\u001b[0m\u001b[0m\n\u001b[0;32m   3162\u001b[0m             \u001b[1;31m# set column\u001b[0m\u001b[1;33m\u001b[0m\u001b[1;33m\u001b[0m\u001b[1;33m\u001b[0m\u001b[0m\n\u001b[1;32m-> 3163\u001b[1;33m             \u001b[0mself\u001b[0m\u001b[1;33m.\u001b[0m\u001b[0m_set_item\u001b[0m\u001b[1;33m(\u001b[0m\u001b[0mkey\u001b[0m\u001b[1;33m,\u001b[0m \u001b[0mvalue\u001b[0m\u001b[1;33m)\u001b[0m\u001b[1;33m\u001b[0m\u001b[1;33m\u001b[0m\u001b[0m\n\u001b[0m\u001b[0;32m   3164\u001b[0m \u001b[1;33m\u001b[0m\u001b[0m\n\u001b[0;32m   3165\u001b[0m     \u001b[1;32mdef\u001b[0m \u001b[0m_setitem_slice\u001b[0m\u001b[1;33m(\u001b[0m\u001b[0mself\u001b[0m\u001b[1;33m,\u001b[0m \u001b[0mkey\u001b[0m\u001b[1;33m:\u001b[0m \u001b[0mslice\u001b[0m\u001b[1;33m,\u001b[0m \u001b[0mvalue\u001b[0m\u001b[1;33m)\u001b[0m\u001b[1;33m:\u001b[0m\u001b[1;33m\u001b[0m\u001b[1;33m\u001b[0m\u001b[0m\n",
      "\u001b[1;32m~\\miniconda3\\lib\\site-packages\\pandas\\core\\frame.py\u001b[0m in \u001b[0;36m_set_item\u001b[1;34m(self, key, value)\u001b[0m\n\u001b[0;32m   3240\u001b[0m         \"\"\"\n\u001b[0;32m   3241\u001b[0m         \u001b[0mself\u001b[0m\u001b[1;33m.\u001b[0m\u001b[0m_ensure_valid_index\u001b[0m\u001b[1;33m(\u001b[0m\u001b[0mvalue\u001b[0m\u001b[1;33m)\u001b[0m\u001b[1;33m\u001b[0m\u001b[1;33m\u001b[0m\u001b[0m\n\u001b[1;32m-> 3242\u001b[1;33m         \u001b[0mvalue\u001b[0m \u001b[1;33m=\u001b[0m \u001b[0mself\u001b[0m\u001b[1;33m.\u001b[0m\u001b[0m_sanitize_column\u001b[0m\u001b[1;33m(\u001b[0m\u001b[0mkey\u001b[0m\u001b[1;33m,\u001b[0m \u001b[0mvalue\u001b[0m\u001b[1;33m)\u001b[0m\u001b[1;33m\u001b[0m\u001b[1;33m\u001b[0m\u001b[0m\n\u001b[0m\u001b[0;32m   3243\u001b[0m         \u001b[0mNDFrame\u001b[0m\u001b[1;33m.\u001b[0m\u001b[0m_set_item\u001b[0m\u001b[1;33m(\u001b[0m\u001b[0mself\u001b[0m\u001b[1;33m,\u001b[0m \u001b[0mkey\u001b[0m\u001b[1;33m,\u001b[0m \u001b[0mvalue\u001b[0m\u001b[1;33m)\u001b[0m\u001b[1;33m\u001b[0m\u001b[1;33m\u001b[0m\u001b[0m\n\u001b[0;32m   3244\u001b[0m \u001b[1;33m\u001b[0m\u001b[0m\n",
      "\u001b[1;32m~\\miniconda3\\lib\\site-packages\\pandas\\core\\frame.py\u001b[0m in \u001b[0;36m_sanitize_column\u001b[1;34m(self, key, value, broadcast)\u001b[0m\n\u001b[0;32m   3897\u001b[0m \u001b[1;33m\u001b[0m\u001b[0m\n\u001b[0;32m   3898\u001b[0m             \u001b[1;31m# turn me into an ndarray\u001b[0m\u001b[1;33m\u001b[0m\u001b[1;33m\u001b[0m\u001b[1;33m\u001b[0m\u001b[0m\n\u001b[1;32m-> 3899\u001b[1;33m             \u001b[0mvalue\u001b[0m \u001b[1;33m=\u001b[0m \u001b[0msanitize_index\u001b[0m\u001b[1;33m(\u001b[0m\u001b[0mvalue\u001b[0m\u001b[1;33m,\u001b[0m \u001b[0mself\u001b[0m\u001b[1;33m.\u001b[0m\u001b[0mindex\u001b[0m\u001b[1;33m)\u001b[0m\u001b[1;33m\u001b[0m\u001b[1;33m\u001b[0m\u001b[0m\n\u001b[0m\u001b[0;32m   3900\u001b[0m             \u001b[1;32mif\u001b[0m \u001b[1;32mnot\u001b[0m \u001b[0misinstance\u001b[0m\u001b[1;33m(\u001b[0m\u001b[0mvalue\u001b[0m\u001b[1;33m,\u001b[0m \u001b[1;33m(\u001b[0m\u001b[0mnp\u001b[0m\u001b[1;33m.\u001b[0m\u001b[0mndarray\u001b[0m\u001b[1;33m,\u001b[0m \u001b[0mIndex\u001b[0m\u001b[1;33m)\u001b[0m\u001b[1;33m)\u001b[0m\u001b[1;33m:\u001b[0m\u001b[1;33m\u001b[0m\u001b[1;33m\u001b[0m\u001b[0m\n\u001b[0;32m   3901\u001b[0m                 \u001b[1;32mif\u001b[0m \u001b[0misinstance\u001b[0m\u001b[1;33m(\u001b[0m\u001b[0mvalue\u001b[0m\u001b[1;33m,\u001b[0m \u001b[0mlist\u001b[0m\u001b[1;33m)\u001b[0m \u001b[1;32mand\u001b[0m \u001b[0mlen\u001b[0m\u001b[1;33m(\u001b[0m\u001b[0mvalue\u001b[0m\u001b[1;33m)\u001b[0m \u001b[1;33m>\u001b[0m \u001b[1;36m0\u001b[0m\u001b[1;33m:\u001b[0m\u001b[1;33m\u001b[0m\u001b[1;33m\u001b[0m\u001b[0m\n",
      "\u001b[1;32m~\\miniconda3\\lib\\site-packages\\pandas\\core\\internals\\construction.py\u001b[0m in \u001b[0;36msanitize_index\u001b[1;34m(data, index)\u001b[0m\n\u001b[0;32m    749\u001b[0m     \"\"\"\n\u001b[0;32m    750\u001b[0m     \u001b[1;32mif\u001b[0m \u001b[0mlen\u001b[0m\u001b[1;33m(\u001b[0m\u001b[0mdata\u001b[0m\u001b[1;33m)\u001b[0m \u001b[1;33m!=\u001b[0m \u001b[0mlen\u001b[0m\u001b[1;33m(\u001b[0m\u001b[0mindex\u001b[0m\u001b[1;33m)\u001b[0m\u001b[1;33m:\u001b[0m\u001b[1;33m\u001b[0m\u001b[1;33m\u001b[0m\u001b[0m\n\u001b[1;32m--> 751\u001b[1;33m         raise ValueError(\n\u001b[0m\u001b[0;32m    752\u001b[0m             \u001b[1;34m\"Length of values \"\u001b[0m\u001b[1;33m\u001b[0m\u001b[1;33m\u001b[0m\u001b[0m\n\u001b[0;32m    753\u001b[0m             \u001b[1;34mf\"({len(data)}) \"\u001b[0m\u001b[1;33m\u001b[0m\u001b[1;33m\u001b[0m\u001b[0m\n",
      "\u001b[1;31mValueError\u001b[0m: Length of values (467) does not match length of index (521)"
     ]
    }
   ],
   "source": [
    "df_silver['lat'], df_silver['lng'] = lat_list, lng_list\n",
    "df_silver.head()"
   ]
  },
  {
   "cell_type": "code",
   "execution_count": null,
   "metadata": {},
   "outputs": [],
   "source": []
  }
 ]
}