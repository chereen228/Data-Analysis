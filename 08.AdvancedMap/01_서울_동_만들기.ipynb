{
 "metadata": {
  "language_info": {
   "codemirror_mode": {
    "name": "ipython",
    "version": 3
   },
   "file_extension": ".py",
   "mimetype": "text/x-python",
   "name": "python",
   "nbconvert_exporter": "python",
   "pygments_lexer": "ipython3",
   "version": "3.8.5"
  },
  "orig_nbformat": 2,
  "kernelspec": {
   "name": "python385jvsc74a57bd054daef0dc01e033c2e8f5f3c9e10ede1654dd5d0f042d7f1d072181b13567fe3",
   "display_name": "Python 3.8.5 64-bit ('base': conda)"
  }
 },
 "nbformat": 4,
 "nbformat_minor": 2,
 "cells": [
  {
   "source": [
    "# 서울시 동 단위 가상데이터 만들기"
   ],
   "cell_type": "markdown",
   "metadata": {}
  },
  {
   "cell_type": "code",
   "execution_count": 1,
   "metadata": {},
   "outputs": [],
   "source": [
    "import json\n",
    "geo_str = json.load(open('seoul_dong_geo_simple.json',\n",
    "                         encoding='utf8'))"
   ]
  },
  {
   "cell_type": "code",
   "execution_count": 3,
   "metadata": {},
   "outputs": [
    {
     "output_type": "execute_result",
     "data": {
      "text/plain": [
       "467"
      ]
     },
     "metadata": {},
     "execution_count": 3
    }
   ],
   "source": [
    "len(geo_str['features'])"
   ]
  },
  {
   "cell_type": "code",
   "execution_count": 4,
   "metadata": {},
   "outputs": [
    {
     "output_type": "execute_result",
     "data": {
      "text/plain": [
       "'대방동'"
      ]
     },
     "metadata": {},
     "execution_count": 4
    }
   ],
   "source": [
    "feature = geo_str['features'][0]\n",
    "feature['properties']['EMD_KOR_NM']"
   ]
  },
  {
   "cell_type": "code",
   "execution_count": 5,
   "metadata": {},
   "outputs": [
    {
     "output_type": "execute_result",
     "data": {
      "text/plain": [
       "(37.50614926578124, 126.93004245234377)"
      ]
     },
     "metadata": {},
     "execution_count": 5
    }
   ],
   "source": [
    "x, y = 0, 0\n",
    "for l in feature[\"geometry\"][\"coordinates\"][0]:\n",
    "    x += l[0]\n",
    "    y += l[1]\n",
    "lng = x/len(feature[\"geometry\"][\"coordinates\"][0])\n",
    "lat = y/len(feature[\"geometry\"][\"coordinates\"][0])\n",
    "lat, lng"
   ]
  },
  {
   "cell_type": "code",
   "execution_count": 6,
   "metadata": {},
   "outputs": [],
   "source": [
    "dongs, lats, lngs = [], [], []\n",
    "for feature in geo_str['features']:\n",
    "    dongs.append(feature['properties']['EMD_KOR_NM'])\n",
    "    x, y = 0, 0\n",
    "    if feature[\"geometry\"][\"type\"] == \"Polygon\":\n",
    "        for lst in feature[\"geometry\"][\"coordinates\"][0]:\n",
    "            x += lst[0]\n",
    "            y += lst[1]\n",
    "        lngs.append(x/len(feature[\"geometry\"][\"coordinates\"][0]))\n",
    "        lats.append(y/len(feature[\"geometry\"][\"coordinates\"][0]))\n",
    "    else:\n",
    "        for lst in feature[\"geometry\"][\"coordinates\"][0][0]:\n",
    "            x += lst[0]\n",
    "            y += lst[1]\n",
    "        lngs.append(x/len(feature[\"geometry\"][\"coordinates\"][0][0]))\n",
    "        lats.append(y/len(feature[\"geometry\"][\"coordinates\"][0][0]))"
   ]
  },
  {
   "cell_type": "code",
   "execution_count": 7,
   "metadata": {},
   "outputs": [],
   "source": [
    "import numpy as np\n",
    "pop = np.random.randint(1000, 5000, 467)\n",
    "pop2 = np.random.randint(10000, 100000, 467)"
   ]
  },
  {
   "cell_type": "code",
   "execution_count": 8,
   "metadata": {},
   "outputs": [
    {
     "output_type": "execute_result",
     "data": {
      "text/plain": [
       "      동         위도          경도    인구     유동\n",
       "0   대방동  37.506149  126.930042  3882  95197\n",
       "1   내수동  37.573441  126.971994  1102  49011\n",
       "2   흑석동  37.504608  126.962250  1298  22420\n",
       "3    창동  37.643618  127.046445  2611  94590\n",
       "4  청량리동  37.590365  127.045394  4703  86018"
      ],
      "text/html": "<div>\n<style scoped>\n    .dataframe tbody tr th:only-of-type {\n        vertical-align: middle;\n    }\n\n    .dataframe tbody tr th {\n        vertical-align: top;\n    }\n\n    .dataframe thead th {\n        text-align: right;\n    }\n</style>\n<table border=\"1\" class=\"dataframe\">\n  <thead>\n    <tr style=\"text-align: right;\">\n      <th></th>\n      <th>동</th>\n      <th>위도</th>\n      <th>경도</th>\n      <th>인구</th>\n      <th>유동</th>\n    </tr>\n  </thead>\n  <tbody>\n    <tr>\n      <th>0</th>\n      <td>대방동</td>\n      <td>37.506149</td>\n      <td>126.930042</td>\n      <td>3882</td>\n      <td>95197</td>\n    </tr>\n    <tr>\n      <th>1</th>\n      <td>내수동</td>\n      <td>37.573441</td>\n      <td>126.971994</td>\n      <td>1102</td>\n      <td>49011</td>\n    </tr>\n    <tr>\n      <th>2</th>\n      <td>흑석동</td>\n      <td>37.504608</td>\n      <td>126.962250</td>\n      <td>1298</td>\n      <td>22420</td>\n    </tr>\n    <tr>\n      <th>3</th>\n      <td>창동</td>\n      <td>37.643618</td>\n      <td>127.046445</td>\n      <td>2611</td>\n      <td>94590</td>\n    </tr>\n    <tr>\n      <th>4</th>\n      <td>청량리동</td>\n      <td>37.590365</td>\n      <td>127.045394</td>\n      <td>4703</td>\n      <td>86018</td>\n    </tr>\n  </tbody>\n</table>\n</div>"
     },
     "metadata": {},
     "execution_count": 8
    }
   ],
   "source": [
    "import pandas as pd \n",
    "df = pd.DataFrame({\n",
    "    '동': dongs, '위도': lats, '경도': lngs,\n",
    "    '인구': pop, '유동': pop2\n",
    "})\n",
    "df.head()"
   ]
  },
  {
   "cell_type": "code",
   "execution_count": 9,
   "metadata": {},
   "outputs": [],
   "source": [
    "df.sort_values(by='동', inplace=True)\n",
    "df.to_csv('서울_가상_데이터.csv', index=False, encoding='utf8')"
   ]
  }
 ]
}